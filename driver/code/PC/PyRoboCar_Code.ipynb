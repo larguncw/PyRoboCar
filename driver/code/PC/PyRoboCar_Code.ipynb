{
 "cells": [
  {
   "cell_type": "code",
   "execution_count": 2,
   "metadata": {
    "ExecuteTime": {
     "end_time": "2020-10-12T12:55:08.202031Z",
     "start_time": "2020-10-12T12:54:41.222199Z"
    }
   },
   "outputs": [
    {
     "name": "stderr",
     "output_type": "stream",
     "text": [
      "INFO:root:Creating a HandCodedLaneFollower...\n",
      "INFO:root:No line_segment segments detected\n",
      "ERROR:root:No lane lines detected, nothing to do.\n",
      "INFO:root:No line_segment segments detected\n"
     ]
    },
    {
     "name": "stdout",
     "output_type": "stream",
     "text": [
      "frame 0\n",
      "frame 1\n"
     ]
    },
    {
     "name": "stderr",
     "output_type": "stream",
     "text": [
      "ERROR:root:No lane lines detected, nothing to do.\n",
      "INFO:root:No line_segment segments detected\n",
      "ERROR:root:No lane lines detected, nothing to do.\n",
      "INFO:root:Proposed angle: 174, stabilized angle: 91\n",
      "INFO:root:No line_segment segments detected\n",
      "ERROR:root:No lane lines detected, nothing to do.\n",
      "INFO:root:skipping vertical line segment (slope=inf): [[527 401 527 386]]\n",
      "INFO:root:Proposed angle: 88, stabilized angle: 88\n"
     ]
    },
    {
     "name": "stdout",
     "output_type": "stream",
     "text": [
      "frame 2\n",
      "frame 3\n",
      "frame 4\n",
      "frame 5\n",
      "frame 6"
     ]
    },
    {
     "name": "stderr",
     "output_type": "stream",
     "text": [
      "INFO:root:Proposed angle: 90, stabilized angle: 90\n",
      "INFO:root:skipping vertical line segment (slope=inf): [[1263  606 1263  576]]\n",
      "INFO:root:skipping vertical line segment (slope=inf): [[1247  590 1247  577]]\n",
      "INFO:root:skipping vertical line segment (slope=inf): [[1225  637 1225  625]]\n",
      "INFO:root:skipping vertical line segment (slope=inf): [[1231  624 1231  637]]\n",
      "INFO:root:skipping vertical line segment (slope=inf): [[975 590 975 576]]\n",
      "INFO:root:skipping vertical line segment (slope=inf): [[1271  594 1271  602]]\n",
      "INFO:root:Proposed angle: 83, stabilized angle: 85\n"
     ]
    },
    {
     "name": "stdout",
     "output_type": "stream",
     "text": [
      "\n",
      "frame 7\n",
      "frame 8\n"
     ]
    },
    {
     "name": "stderr",
     "output_type": "stream",
     "text": [
      "INFO:root:skipping vertical line segment (slope=inf): [[1197  670 1197  657]]\n",
      "INFO:root:skipping vertical line segment (slope=inf): [[ 47 525  47 513]]\n",
      "INFO:root:skipping vertical line segment (slope=inf): [[959 622 959 609]]\n",
      "INFO:root:skipping vertical line segment (slope=inf): [[ 71 525  71 513]]\n",
      "INFO:root:skipping vertical line segment (slope=inf): [[ 79 526  79 512]]\n",
      "INFO:root:Proposed angle: 88, stabilized angle: 88\n",
      "INFO:root:Proposed angle: 91, stabilized angle: 91\n",
      "INFO:root:skipping vertical line segment (slope=inf): [[1231  670 1231  662]]\n",
      "INFO:root:skipping vertical line segment (slope=inf): [[351 544 351 554]]\n",
      "INFO:root:Proposed angle: 95, stabilized angle: 95\n"
     ]
    },
    {
     "name": "stdout",
     "output_type": "stream",
     "text": [
      "frame 9\n",
      "frame 10\n",
      "frame 11\n"
     ]
    },
    {
     "name": "stderr",
     "output_type": "stream",
     "text": [
      "INFO:root:skipping vertical line segment (slope=inf): [[ 63 622  63 609]]\n",
      "INFO:root:Proposed angle: 88, stabilized angle: 90\n",
      "INFO:root:skipping vertical line segment (slope=inf): [[ 79 610  79 600]]\n",
      "INFO:root:skipping vertical line segment (slope=inf): [[ 63 622  63 609]]\n",
      "INFO:root:skipping vertical line segment (slope=inf): [[ 57 594  57 603]]\n",
      "INFO:root:Proposed angle: 90, stabilized angle: 90\n",
      "INFO:root:skipping vertical line segment (slope=inf): [[ 63 622  63 609]]\n",
      "INFO:root:skipping vertical line segment (slope=inf): [[ 61 597  61 606]]\n",
      "INFO:root:skipping vertical line segment (slope=inf): [[1008  622 1008  612]]\n",
      "INFO:root:Proposed angle: 87, stabilized angle: 87\n"
     ]
    },
    {
     "name": "stdout",
     "output_type": "stream",
     "text": [
      "frame 12\n",
      "frame 13\n",
      "frame 14\n"
     ]
    },
    {
     "name": "stderr",
     "output_type": "stream",
     "text": [
      "INFO:root:Proposed angle: 84, stabilized angle: 84\n",
      "INFO:root:Proposed angle: 88, stabilized angle: 88\n",
      "INFO:root:skipping vertical line segment (slope=inf): [[ 79 630  79 609]]\n",
      "INFO:root:Proposed angle: 91, stabilized angle: 91\n",
      "INFO:root:Proposed angle: 81, stabilized angle: 86\n"
     ]
    },
    {
     "name": "stdout",
     "output_type": "stream",
     "text": [
      "frame 15\n",
      "frame 16\n",
      "frame 17\n",
      "frame 18\n"
     ]
    },
    {
     "name": "stderr",
     "output_type": "stream",
     "text": [
      "INFO:root:Proposed angle: 88, stabilized angle: 88\n",
      "INFO:root:Proposed angle: 90, stabilized angle: 90\n",
      "INFO:root:skipping vertical line segment (slope=inf): [[ 79 624  79 636]]\n",
      "INFO:root:Proposed angle: 90, stabilized angle: 90\n"
     ]
    },
    {
     "name": "stdout",
     "output_type": "stream",
     "text": [
      "frame 19\n",
      "frame 20\n",
      "frame 21\n"
     ]
    },
    {
     "name": "stderr",
     "output_type": "stream",
     "text": [
      "INFO:root:Proposed angle: 90, stabilized angle: 90\n",
      "INFO:root:Proposed angle: 89, stabilized angle: 89\n",
      "INFO:root:Proposed angle: 89, stabilized angle: 89\n",
      "INFO:root:Proposed angle: 88, stabilized angle: 88\n"
     ]
    },
    {
     "name": "stdout",
     "output_type": "stream",
     "text": [
      "frame 22\n",
      "frame 23\n",
      "frame 24\n"
     ]
    },
    {
     "name": "stderr",
     "output_type": "stream",
     "text": [
      "INFO:root:Proposed angle: 87, stabilized angle: 87\n",
      "INFO:root:Proposed angle: 90, stabilized angle: 90\n",
      "INFO:root:Proposed angle: 90, stabilized angle: 90\n"
     ]
    },
    {
     "name": "stdout",
     "output_type": "stream",
     "text": [
      "frame 25\n",
      "frame 26\n",
      "frame 27\n",
      "frame 28\n"
     ]
    },
    {
     "name": "stderr",
     "output_type": "stream",
     "text": [
      "INFO:root:Proposed angle: 90, stabilized angle: 90\n",
      "INFO:root:Proposed angle: 88, stabilized angle: 88\n",
      "INFO:root:Proposed angle: 90, stabilized angle: 90\n",
      "INFO:root:Proposed angle: 90, stabilized angle: 90\n"
     ]
    },
    {
     "name": "stdout",
     "output_type": "stream",
     "text": [
      "frame 29\n",
      "frame 30\n",
      "frame 31\n",
      "frame 32\n"
     ]
    },
    {
     "name": "stderr",
     "output_type": "stream",
     "text": [
      "INFO:root:Proposed angle: 89, stabilized angle: 89\n",
      "INFO:root:Proposed angle: 88, stabilized angle: 88\n",
      "INFO:root:Proposed angle: 89, stabilized angle: 89\n",
      "INFO:root:Proposed angle: 89, stabilized angle: 89\n"
     ]
    },
    {
     "name": "stdout",
     "output_type": "stream",
     "text": [
      "frame 33\n",
      "frame 34\n",
      "frame 35\n",
      "frame 36"
     ]
    },
    {
     "name": "stderr",
     "output_type": "stream",
     "text": [
      "INFO:root:Proposed angle: 88, stabilized angle: 88\n",
      "INFO:root:Proposed angle: 90, stabilized angle: 90\n",
      "INFO:root:Proposed angle: 90, stabilized angle: 90\n"
     ]
    },
    {
     "name": "stdout",
     "output_type": "stream",
     "text": [
      "\n",
      "frame 37\n",
      "frame 38\n",
      "frame 39\n"
     ]
    },
    {
     "name": "stderr",
     "output_type": "stream",
     "text": [
      "INFO:root:Proposed angle: 89, stabilized angle: 89\n",
      "INFO:root:Proposed angle: 90, stabilized angle: 90\n",
      "INFO:root:Proposed angle: 90, stabilized angle: 90\n",
      "INFO:root:Proposed angle: 90, stabilized angle: 90\n"
     ]
    },
    {
     "name": "stdout",
     "output_type": "stream",
     "text": [
      "frame 40\n",
      "frame 41\n",
      "frame 42\n"
     ]
    },
    {
     "name": "stderr",
     "output_type": "stream",
     "text": [
      "INFO:root:Proposed angle: 89, stabilized angle: 89\n",
      "INFO:root:Proposed angle: 90, stabilized angle: 90\n",
      "INFO:root:Proposed angle: 88, stabilized angle: 88\n"
     ]
    },
    {
     "name": "stdout",
     "output_type": "stream",
     "text": [
      "frame 43\n",
      "frame 44\n",
      "frame 45\n",
      "frame 46\n"
     ]
    },
    {
     "name": "stderr",
     "output_type": "stream",
     "text": [
      "INFO:root:Proposed angle: 89, stabilized angle: 89\n",
      "INFO:root:Proposed angle: 90, stabilized angle: 90\n",
      "INFO:root:Proposed angle: 86, stabilized angle: 86\n",
      "INFO:root:Proposed angle: 89, stabilized angle: 89\n"
     ]
    },
    {
     "name": "stdout",
     "output_type": "stream",
     "text": [
      "frame 47\n",
      "frame 48\n",
      "frame 49\n",
      "frame 50\n"
     ]
    },
    {
     "name": "stderr",
     "output_type": "stream",
     "text": [
      "INFO:root:Proposed angle: 88, stabilized angle: 88\n",
      "INFO:root:Proposed angle: 88, stabilized angle: 88\n",
      "INFO:root:Proposed angle: 88, stabilized angle: 88\n",
      "INFO:root:Proposed angle: 84, stabilized angle: 84\n"
     ]
    },
    {
     "name": "stdout",
     "output_type": "stream",
     "text": [
      "frame 51\n",
      "frame 52\n",
      "frame 53\n",
      "frame 54\n"
     ]
    },
    {
     "name": "stderr",
     "output_type": "stream",
     "text": [
      "INFO:root:Proposed angle: 88, stabilized angle: 88\n",
      "INFO:root:Proposed angle: 87, stabilized angle: 87\n",
      "INFO:root:Proposed angle: 88, stabilized angle: 88\n",
      "INFO:root:Proposed angle: 87, stabilized angle: 87\n"
     ]
    },
    {
     "name": "stdout",
     "output_type": "stream",
     "text": [
      "frame 55\n",
      "frame 56\n",
      "frame 57\n",
      "frame 58"
     ]
    },
    {
     "name": "stderr",
     "output_type": "stream",
     "text": [
      "INFO:root:Proposed angle: 86, stabilized angle: 86\n",
      "INFO:root:Proposed angle: 87, stabilized angle: 87\n",
      "INFO:root:Proposed angle: 89, stabilized angle: 89\n"
     ]
    },
    {
     "name": "stdout",
     "output_type": "stream",
     "text": [
      "\n",
      "frame 59\n",
      "frame 60\n",
      "frame 61\n"
     ]
    },
    {
     "name": "stderr",
     "output_type": "stream",
     "text": [
      "INFO:root:Proposed angle: 90, stabilized angle: 90\n",
      "INFO:root:Proposed angle: 85, stabilized angle: 85\n",
      "INFO:root:Proposed angle: 90, stabilized angle: 90\n",
      "INFO:root:Proposed angle: 85, stabilized angle: 85\n"
     ]
    },
    {
     "name": "stdout",
     "output_type": "stream",
     "text": [
      "frame 62\n",
      "frame 63\n",
      "frame 64\n",
      "frame 65\n"
     ]
    },
    {
     "name": "stderr",
     "output_type": "stream",
     "text": [
      "INFO:root:Proposed angle: 88, stabilized angle: 88\n",
      "INFO:root:Proposed angle: 88, stabilized angle: 88\n",
      "INFO:root:Proposed angle: 87, stabilized angle: 87\n",
      "INFO:root:Proposed angle: 87, stabilized angle: 87\n"
     ]
    },
    {
     "name": "stdout",
     "output_type": "stream",
     "text": [
      "frame 66\n",
      "frame 67\n",
      "frame 68\n",
      "frame 69\n"
     ]
    },
    {
     "name": "stderr",
     "output_type": "stream",
     "text": [
      "INFO:root:Proposed angle: 87, stabilized angle: 87\n",
      "INFO:root:Proposed angle: 88, stabilized angle: 88\n",
      "INFO:root:Proposed angle: 86, stabilized angle: 86\n",
      "INFO:root:skipping vertical line segment (slope=inf): [[207 654 207 632]]\n",
      "INFO:root:skipping vertical line segment (slope=inf): [[199 630 199 619]]\n",
      "INFO:root:Proposed angle: 85, stabilized angle: 85\n"
     ]
    },
    {
     "name": "stdout",
     "output_type": "stream",
     "text": [
      "frame 70\n",
      "frame 71\n",
      "frame 72\n",
      "frame 73\n"
     ]
    },
    {
     "name": "stderr",
     "output_type": "stream",
     "text": [
      "INFO:root:skipping vertical line segment (slope=inf): [[223 641 223 654]]\n",
      "INFO:root:skipping vertical line segment (slope=inf): [[207 670 207 640]]\n",
      "INFO:root:skipping vertical line segment (slope=inf): [[187 670 187 655]]\n",
      "INFO:root:skipping vertical line segment (slope=inf): [[223 670 223 661]]\n",
      "INFO:root:Proposed angle: 84, stabilized angle: 84\n",
      "INFO:root:Proposed angle: 85, stabilized angle: 85\n",
      "INFO:root:Proposed angle: 85, stabilized angle: 85\n",
      "INFO:root:Proposed angle: 85, stabilized angle: 85\n"
     ]
    },
    {
     "name": "stdout",
     "output_type": "stream",
     "text": [
      "frame 74\n",
      "frame 75\n",
      "frame 76\n",
      "frame 77\n"
     ]
    },
    {
     "name": "stderr",
     "output_type": "stream",
     "text": [
      "INFO:root:Proposed angle: 84, stabilized angle: 84\n",
      "INFO:root:Proposed angle: 84, stabilized angle: 84\n",
      "INFO:root:Proposed angle: 87, stabilized angle: 87\n",
      "INFO:root:Proposed angle: 86, stabilized angle: 86\n"
     ]
    },
    {
     "name": "stdout",
     "output_type": "stream",
     "text": [
      "frame 78\n",
      "frame 79\n",
      "frame 80\n",
      "frame 81\n"
     ]
    },
    {
     "name": "stderr",
     "output_type": "stream",
     "text": [
      "INFO:root:Proposed angle: 84, stabilized angle: 84\n",
      "INFO:root:Proposed angle: 85, stabilized angle: 85\n",
      "INFO:root:Proposed angle: 82, stabilized angle: 82\n",
      "INFO:root:Proposed angle: 84, stabilized angle: 84\n"
     ]
    },
    {
     "name": "stdout",
     "output_type": "stream",
     "text": [
      "frame 82\n",
      "frame 83\n",
      "frame 84\n",
      "frame 85\n"
     ]
    },
    {
     "name": "stderr",
     "output_type": "stream",
     "text": [
      "INFO:root:Proposed angle: 83, stabilized angle: 83\n",
      "INFO:root:Proposed angle: 80, stabilized angle: 80\n",
      "INFO:root:Proposed angle: 83, stabilized angle: 83\n",
      "INFO:root:Proposed angle: 85, stabilized angle: 85\n"
     ]
    },
    {
     "name": "stdout",
     "output_type": "stream",
     "text": [
      "frame 86\n",
      "frame 87\n",
      "frame 88\n",
      "frame 89\n"
     ]
    },
    {
     "name": "stderr",
     "output_type": "stream",
     "text": [
      "INFO:root:Proposed angle: 83, stabilized angle: 83\n",
      "INFO:root:Proposed angle: 83, stabilized angle: 83\n",
      "INFO:root:Proposed angle: 82, stabilized angle: 82\n",
      "INFO:root:Proposed angle: 81, stabilized angle: 81\n"
     ]
    },
    {
     "name": "stdout",
     "output_type": "stream",
     "text": [
      "frame 90\n",
      "frame 91\n",
      "frame 92\n",
      "frame 93\n"
     ]
    },
    {
     "name": "stderr",
     "output_type": "stream",
     "text": [
      "INFO:root:Proposed angle: 82, stabilized angle: 82\n",
      "INFO:root:Proposed angle: 84, stabilized angle: 84\n",
      "INFO:root:Proposed angle: 82, stabilized angle: 82\n",
      "INFO:root:Proposed angle: 82, stabilized angle: 82\n"
     ]
    },
    {
     "name": "stdout",
     "output_type": "stream",
     "text": [
      "frame 94\n",
      "frame 95\n",
      "frame 96\n",
      "frame 97\n"
     ]
    },
    {
     "name": "stderr",
     "output_type": "stream",
     "text": [
      "INFO:root:Proposed angle: 81, stabilized angle: 81\n",
      "INFO:root:Proposed angle: 81, stabilized angle: 81\n",
      "INFO:root:Proposed angle: 81, stabilized angle: 81\n",
      "INFO:root:Proposed angle: 84, stabilized angle: 84\n"
     ]
    },
    {
     "name": "stdout",
     "output_type": "stream",
     "text": [
      "frame 98\n",
      "frame 99\n",
      "frame 100\n",
      "frame 101\n"
     ]
    },
    {
     "name": "stderr",
     "output_type": "stream",
     "text": [
      "INFO:root:Proposed angle: 84, stabilized angle: 84\n",
      "INFO:root:Proposed angle: 85, stabilized angle: 85\n",
      "INFO:root:Proposed angle: 83, stabilized angle: 83\n",
      "INFO:root:Proposed angle: 85, stabilized angle: 85\n"
     ]
    },
    {
     "name": "stdout",
     "output_type": "stream",
     "text": [
      "frame 102\n",
      "frame 103\n",
      "frame 104\n",
      "frame 105\n"
     ]
    },
    {
     "name": "stderr",
     "output_type": "stream",
     "text": [
      "INFO:root:Proposed angle: 87, stabilized angle: 87\n",
      "INFO:root:Proposed angle: 86, stabilized angle: 86\n",
      "INFO:root:Proposed angle: 90, stabilized angle: 90\n",
      "INFO:root:Proposed angle: 84, stabilized angle: 85\n"
     ]
    },
    {
     "name": "stdout",
     "output_type": "stream",
     "text": [
      "frame 106\n",
      "frame 107\n",
      "frame 108\n",
      "frame 109\n"
     ]
    },
    {
     "name": "stderr",
     "output_type": "stream",
     "text": [
      "INFO:root:Proposed angle: 84, stabilized angle: 84\n",
      "INFO:root:Proposed angle: 82, stabilized angle: 82\n",
      "INFO:root:Proposed angle: 83, stabilized angle: 83\n",
      "INFO:root:Proposed angle: 83, stabilized angle: 83\n"
     ]
    },
    {
     "name": "stdout",
     "output_type": "stream",
     "text": [
      "frame 110\n",
      "frame 111\n",
      "frame 112\n",
      "frame 113\n"
     ]
    },
    {
     "name": "stderr",
     "output_type": "stream",
     "text": [
      "INFO:root:Proposed angle: 82, stabilized angle: 82\n",
      "INFO:root:Proposed angle: 83, stabilized angle: 83\n",
      "INFO:root:Proposed angle: 84, stabilized angle: 84\n",
      "INFO:root:Proposed angle: 84, stabilized angle: 84\n"
     ]
    },
    {
     "name": "stdout",
     "output_type": "stream",
     "text": [
      "frame 114\n",
      "frame 115\n",
      "frame 116\n",
      "frame 117\n"
     ]
    },
    {
     "name": "stderr",
     "output_type": "stream",
     "text": [
      "INFO:root:Proposed angle: 84, stabilized angle: 84\n",
      "INFO:root:skipping vertical line segment (slope=inf): [[143 670 143 643]]\n",
      "INFO:root:Proposed angle: 83, stabilized angle: 83\n",
      "INFO:root:Proposed angle: 83, stabilized angle: 83\n",
      "INFO:root:skipping vertical line segment (slope=inf): [[ 79 703  79 678]]\n",
      "INFO:root:Proposed angle: 80, stabilized angle: 80\n"
     ]
    },
    {
     "name": "stdout",
     "output_type": "stream",
     "text": [
      "frame 118\n",
      "frame 119\n",
      "frame 120\n",
      "frame 121"
     ]
    },
    {
     "name": "stderr",
     "output_type": "stream",
     "text": [
      "INFO:root:skipping vertical line segment (slope=inf): [[ 35 719  35 708]]\n",
      "INFO:root:Proposed angle: 86, stabilized angle: 85\n",
      "INFO:root:Proposed angle: 82, stabilized angle: 82\n",
      "INFO:root:Proposed angle: 78, stabilized angle: 78\n"
     ]
    },
    {
     "name": "stdout",
     "output_type": "stream",
     "text": [
      "\n",
      "frame 122\n",
      "frame 123\n",
      "frame 124\n"
     ]
    },
    {
     "name": "stderr",
     "output_type": "stream",
     "text": [
      "INFO:root:Proposed angle: 77, stabilized angle: 77\n",
      "INFO:root:Proposed angle: 78, stabilized angle: 78\n",
      "INFO:root:skipping vertical line segment (slope=inf): [[183 606 183 586]]\n",
      "INFO:root:skipping vertical line segment (slope=inf): [[223 606 223 592]]\n",
      "INFO:root:Proposed angle: 77, stabilized angle: 77\n",
      "INFO:root:skipping vertical line segment (slope=inf): [[175 639 175 625]]\n",
      "INFO:root:skipping vertical line segment (slope=inf): [[127 617 127 608]]\n",
      "INFO:root:Proposed angle: 74, stabilized angle: 74\n"
     ]
    },
    {
     "name": "stdout",
     "output_type": "stream",
     "text": [
      "frame 125\n",
      "frame 126\n",
      "frame 127\n",
      "frame 128\n"
     ]
    },
    {
     "name": "stderr",
     "output_type": "stream",
     "text": [
      "INFO:root:skipping vertical line segment (slope=inf): [[139 654 139 645]]\n",
      "INFO:root:skipping vertical line segment (slope=inf): [[ 95 665  95 656]]\n",
      "INFO:root:Proposed angle: 71, stabilized angle: 71\n",
      "INFO:root:skipping vertical line segment (slope=inf): [[ 43 693  43 701]]\n",
      "INFO:root:skipping vertical line segment (slope=inf): [[ 79 719  79 705]]\n",
      "INFO:root:Proposed angle: 72, stabilized angle: 72\n",
      "INFO:root:skipping vertical line segment (slope=inf): [[ 35 719  35 705]]\n",
      "INFO:root:skipping vertical line segment (slope=inf): [[ 43 697  43 687]]\n",
      "INFO:root:Proposed angle: 77, stabilized angle: 77\n",
      "INFO:root:Proposed angle: 77, stabilized angle: 77\n"
     ]
    },
    {
     "name": "stdout",
     "output_type": "stream",
     "text": [
      "frame 129\n",
      "frame 130\n",
      "frame 131\n"
     ]
    },
    {
     "name": "stderr",
     "output_type": "stream",
     "text": [
      "INFO:root:Proposed angle: 80, stabilized angle: 80\n",
      "INFO:root:Proposed angle: 78, stabilized angle: 78\n",
      "INFO:root:Proposed angle: 78, stabilized angle: 78\n"
     ]
    },
    {
     "name": "stdout",
     "output_type": "stream",
     "text": [
      "frame 132\n",
      "frame 133\n",
      "frame 134\n",
      "frame 135\n"
     ]
    },
    {
     "name": "stderr",
     "output_type": "stream",
     "text": [
      "INFO:root:Proposed angle: 78, stabilized angle: 78\n",
      "INFO:root:Proposed angle: 77, stabilized angle: 77\n",
      "INFO:root:Proposed angle: 78, stabilized angle: 78\n",
      "INFO:root:Proposed angle: 77, stabilized angle: 77\n"
     ]
    },
    {
     "name": "stdout",
     "output_type": "stream",
     "text": [
      "frame 136\n",
      "frame 137\n",
      "frame 138\n",
      "frame 139\n"
     ]
    },
    {
     "name": "stderr",
     "output_type": "stream",
     "text": [
      "INFO:root:Proposed angle: 77, stabilized angle: 77\n",
      "INFO:root:Proposed angle: 79, stabilized angle: 79\n",
      "INFO:root:Proposed angle: 79, stabilized angle: 79\n",
      "INFO:root:Proposed angle: 80, stabilized angle: 80\n"
     ]
    },
    {
     "name": "stdout",
     "output_type": "stream",
     "text": [
      "frame 140\n",
      "frame 141\n",
      "frame 142\n",
      "frame 143\n"
     ]
    },
    {
     "name": "stderr",
     "output_type": "stream",
     "text": [
      "INFO:root:Proposed angle: 81, stabilized angle: 81\n",
      "INFO:root:Proposed angle: 83, stabilized angle: 83\n",
      "INFO:root:Proposed angle: 86, stabilized angle: 86\n",
      "INFO:root:Proposed angle: 86, stabilized angle: 86\n"
     ]
    },
    {
     "name": "stdout",
     "output_type": "stream",
     "text": [
      "frame 144\n",
      "frame 145\n",
      "frame 146\n",
      "frame 147"
     ]
    },
    {
     "name": "stderr",
     "output_type": "stream",
     "text": [
      "INFO:root:Proposed angle: 86, stabilized angle: 86\n",
      "INFO:root:Proposed angle: 82, stabilized angle: 82\n",
      "INFO:root:Proposed angle: 80, stabilized angle: 80\n"
     ]
    },
    {
     "name": "stdout",
     "output_type": "stream",
     "text": [
      "\n",
      "frame 148\n",
      "frame 149\n",
      "frame 150\n"
     ]
    },
    {
     "name": "stderr",
     "output_type": "stream",
     "text": [
      "INFO:root:Proposed angle: 82, stabilized angle: 82\n",
      "INFO:root:Proposed angle: 84, stabilized angle: 84\n",
      "INFO:root:Proposed angle: 83, stabilized angle: 83\n",
      "INFO:root:Proposed angle: 82, stabilized angle: 82\n"
     ]
    },
    {
     "name": "stdout",
     "output_type": "stream",
     "text": [
      "frame 151\n",
      "frame 152\n",
      "frame 153\n",
      "frame 154\n"
     ]
    },
    {
     "name": "stderr",
     "output_type": "stream",
     "text": [
      "INFO:root:Proposed angle: 85, stabilized angle: 85\n",
      "INFO:root:Proposed angle: 84, stabilized angle: 84\n",
      "INFO:root:Proposed angle: 86, stabilized angle: 86\n",
      "INFO:root:Proposed angle: 87, stabilized angle: 87\n"
     ]
    },
    {
     "name": "stdout",
     "output_type": "stream",
     "text": [
      "frame 155\n",
      "frame 156\n",
      "frame 157\n",
      "frame 158\n"
     ]
    },
    {
     "name": "stderr",
     "output_type": "stream",
     "text": [
      "INFO:root:Proposed angle: 83, stabilized angle: 83\n",
      "INFO:root:Proposed angle: 86, stabilized angle: 86\n",
      "INFO:root:Proposed angle: 86, stabilized angle: 86\n",
      "INFO:root:Proposed angle: 88, stabilized angle: 88\n"
     ]
    },
    {
     "name": "stdout",
     "output_type": "stream",
     "text": [
      "frame 159\n",
      "frame 160\n",
      "frame 161\n",
      "frame 162"
     ]
    },
    {
     "name": "stderr",
     "output_type": "stream",
     "text": [
      "INFO:root:skipping vertical line segment (slope=inf): [[805 420 805 406]]\n",
      "INFO:root:Proposed angle: 91, stabilized angle: 91\n",
      "INFO:root:Proposed angle: 93, stabilized angle: 93\n",
      "INFO:root:Proposed angle: 90, stabilized angle: 90\n"
     ]
    },
    {
     "name": "stdout",
     "output_type": "stream",
     "text": [
      "\n",
      "frame 163\n",
      "frame 164\n"
     ]
    },
    {
     "name": "stderr",
     "output_type": "stream",
     "text": [
      "INFO:root:Proposed angle: 96, stabilized angle: 95\n",
      "INFO:root:skipping vertical line segment (slope=inf): [[812 444 812 419]]\n",
      "INFO:root:Proposed angle: 90, stabilized angle: 90\n",
      "INFO:root:skipping vertical line segment (slope=inf): [[811 457 811 441]]\n",
      "INFO:root:skipping vertical line segment (slope=inf): [[810 431 810 440]]\n"
     ]
    },
    {
     "name": "stdout",
     "output_type": "stream",
     "text": [
      "frame 165\n",
      "frame 166\n",
      "frame 167\n"
     ]
    },
    {
     "name": "stderr",
     "output_type": "stream",
     "text": [
      "INFO:root:Proposed angle: 91, stabilized angle: 91\n",
      "INFO:root:skipping vertical line segment (slope=inf): [[811 431 811 421]]\n",
      "INFO:root:skipping vertical line segment (slope=inf): [[809 462 809 447]]\n",
      "INFO:root:skipping vertical line segment (slope=inf): [[807 427 807 448]]\n",
      "INFO:root:Proposed angle: 89, stabilized angle: 89\n",
      "INFO:root:Proposed angle: 98, stabilized angle: 94\n",
      "INFO:root:skipping vertical line segment (slope=inf): [[833 479 833 465]]\n"
     ]
    },
    {
     "name": "stdout",
     "output_type": "stream",
     "text": [
      "frame 168\n",
      "frame 169\n",
      "frame 170\n"
     ]
    },
    {
     "name": "stderr",
     "output_type": "stream",
     "text": [
      "INFO:root:Proposed angle: 93, stabilized angle: 93\n",
      "INFO:root:skipping vertical line segment (slope=inf): [[805 485 805 466]]\n",
      "INFO:root:Proposed angle: 95, stabilized angle: 95\n",
      "INFO:root:skipping vertical line segment (slope=inf): [[817 482 817 467]]\n",
      "INFO:root:Proposed angle: 90, stabilized angle: 90\n",
      "INFO:root:skipping vertical line segment (slope=inf): [[819 494 819 484]]\n",
      "INFO:root:skipping vertical line segment (slope=inf): [[821 471 821 446]]\n",
      "INFO:root:skipping vertical line segment (slope=inf): [[159 694 159 676]]\n",
      "INFO:root:skipping vertical line segment (slope=inf): [[819 473 819 483]]\n",
      "INFO:root:Proposed angle: 83, stabilized angle: 85\n"
     ]
    },
    {
     "name": "stdout",
     "output_type": "stream",
     "text": [
      "frame 171\n",
      "frame 172\n",
      "frame 173\n"
     ]
    },
    {
     "name": "stderr",
     "output_type": "stream",
     "text": [
      "INFO:root:skipping vertical line segment (slope=inf): [[829 514 829 472]]\n",
      "INFO:root:skipping vertical line segment (slope=inf): [[199 622 199 593]]\n",
      "INFO:root:skipping vertical line segment (slope=inf): [[857 446 857 436]]\n",
      "INFO:root:skipping vertical line segment (slope=inf): [[827 477 827 463]]\n",
      "INFO:root:Proposed angle: 81, stabilized angle: 81\n",
      "INFO:root:skipping vertical line segment (slope=inf): [[829 465 829 474]]\n",
      "INFO:root:skipping vertical line segment (slope=inf): [[175 638 175 629]]\n",
      "INFO:root:skipping vertical line segment (slope=inf): [[833 521 833 499]]\n",
      "INFO:root:skipping vertical line segment (slope=inf): [[859 472 859 463]]\n",
      "INFO:root:skipping vertical line segment (slope=inf): [[186 618 186 608]]\n",
      "INFO:root:Proposed angle: 84, stabilized angle: 84\n"
     ]
    },
    {
     "name": "stdout",
     "output_type": "stream",
     "text": [
      "frame 174\n",
      "frame 175\n",
      "frame 176\n"
     ]
    },
    {
     "name": "stderr",
     "output_type": "stream",
     "text": [
      "INFO:root:skipping vertical line segment (slope=inf): [[136 623 136 613]]\n",
      "INFO:root:skipping vertical line segment (slope=inf): [[877 489 877 481]]\n",
      "INFO:root:Proposed angle: 79, stabilized angle: 79\n",
      "INFO:root:Proposed angle: 74, stabilized angle: 74\n",
      "INFO:root:skipping vertical line segment (slope=inf): [[909 490 909 474]]\n",
      "INFO:root:skipping vertical line segment (slope=inf): [[908 473 908 464]]\n",
      "INFO:root:skipping vertical line segment (slope=inf): [[895 438 895 427]]\n",
      "INFO:root:skipping vertical line segment (slope=inf): [[ 47 670  47 654]]\n",
      "INFO:root:skipping vertical line segment (slope=inf): [[897 439 897 429]]\n",
      "INFO:root:Proposed angle: 94, stabilized angle: 79\n",
      "INFO:root:skipping vertical line segment (slope=inf): [[909 455 909 445]]\n",
      "INFO:root:skipping vertical line segment (slope=inf): [[907 466 907 457]]\n",
      "INFO:root:skipping vertical line segment (slope=inf): [[905 497 905 472]]\n"
     ]
    },
    {
     "name": "stdout",
     "output_type": "stream",
     "text": [
      "frame 177\n",
      "frame 178\n",
      "frame 179\n"
     ]
    },
    {
     "name": "stderr",
     "output_type": "stream",
     "text": [
      "INFO:root:Proposed angle: 112, stabilized angle: 84\n",
      "INFO:root:skipping vertical line segment (slope=inf): [[911 514 911 496]]\n",
      "INFO:root:skipping vertical line segment (slope=inf): [[939 456 939 442]]\n",
      "INFO:root:skipping vertical line segment (slope=inf): [[191 638 191 625]]\n",
      "INFO:root:skipping vertical line segment (slope=inf): [[199 654 199 640]]\n",
      "INFO:root:skipping vertical line segment (slope=inf): [[911 473 911 465]]\n",
      "INFO:root:Proposed angle: 101, stabilized angle: 89\n",
      "INFO:root:skipping vertical line segment (slope=inf): [[167 693 167 703]]\n",
      "INFO:root:skipping vertical line segment (slope=inf): [[166 686 166 666]]\n",
      "INFO:root:skipping vertical line segment (slope=inf): [[941 521 941 508]]\n",
      "INFO:root:skipping vertical line segment (slope=inf): [[937 496 937 471]]\n",
      "INFO:root:skipping vertical line segment (slope=inf): [[191 608 191 579]]\n",
      "INFO:root:skipping vertical line segment (slope=inf): [[967 479 967 467]]\n",
      "INFO:root:skipping vertical line segment (slope=inf): [[943 455 943 441]]\n",
      "INFO:root:skipping vertical line segment (slope=inf): [[941 451 941 443]]\n",
      "INFO:root:skipping vertical line segment (slope=inf): [[159 706 159 696]]\n",
      "INFO:root:Proposed angle: 119, stabilized angle: 94\n"
     ]
    },
    {
     "name": "stdout",
     "output_type": "stream",
     "text": [
      "frame 180\n",
      "frame 181\n",
      "frame 182\n"
     ]
    },
    {
     "name": "stderr",
     "output_type": "stream",
     "text": [
      "INFO:root:skipping vertical line segment (slope=inf): [[945 506 945 476]]\n",
      "INFO:root:skipping vertical line segment (slope=inf): [[943 474 943 455]]\n",
      "INFO:root:skipping vertical line segment (slope=inf): [[101 706 101 719]]\n",
      "INFO:root:Proposed angle: 115, stabilized angle: 99\n",
      "INFO:root:skipping vertical line segment (slope=inf): [[947 429 947 421]]\n",
      "INFO:root:skipping vertical line segment (slope=inf): [[947 486 947 464]]\n",
      "INFO:root:skipping vertical line segment (slope=inf): [[947 451 947 441]]\n",
      "INFO:root:skipping vertical line segment (slope=inf): [[981 393 981 385]]\n",
      "INFO:root:skipping vertical line segment (slope=inf): [[967 412 967 424]]\n",
      "INFO:root:Proposed angle: 121, stabilized angle: 104\n",
      "INFO:root:Proposed angle: 117, stabilized angle: 109\n",
      "INFO:root:skipping vertical line segment (slope=inf): [[935 477 935 449]]\n",
      "INFO:root:skipping vertical line segment (slope=inf): [[939 502 939 487]]\n",
      "INFO:root:skipping vertical line segment (slope=inf): [[956 417 956 408]]\n",
      "INFO:root:skipping vertical line segment (slope=inf): [[954 432 954 423]]\n",
      "INFO:root:skipping vertical line segment (slope=inf): [[933 452 933 442]]\n",
      "INFO:root:Proposed angle: 116, stabilized angle: 114\n"
     ]
    },
    {
     "name": "stdout",
     "output_type": "stream",
     "text": [
      "frame 183\n",
      "frame 184\n",
      "frame 185\n"
     ]
    },
    {
     "name": "stderr",
     "output_type": "stream",
     "text": [
      "INFO:root:skipping vertical line segment (slope=inf): [[931 460 931 450]]\n",
      "INFO:root:Proposed angle: 117, stabilized angle: 117\n",
      "INFO:root:skipping vertical line segment (slope=inf): [[935 480 935 465]]\n",
      "INFO:root:skipping vertical line segment (slope=inf): [[953 449 953 432]]\n",
      "INFO:root:Proposed angle: 118, stabilized angle: 118\n"
     ]
    },
    {
     "name": "stdout",
     "output_type": "stream",
     "text": [
      "frame 186\n",
      "frame 187\n",
      "frame 188\n"
     ]
    },
    {
     "name": "stderr",
     "output_type": "stream",
     "text": [
      "INFO:root:Proposed angle: 118, stabilized angle: 118\n",
      "INFO:root:skipping vertical line segment (slope=inf): [[975 449 975 429]]\n",
      "INFO:root:skipping vertical line segment (slope=inf): [[111 719 111 705]]\n",
      "INFO:root:Proposed angle: 117, stabilized angle: 117\n",
      "INFO:root:skipping vertical line segment (slope=inf): [[978 413 978 398]]\n",
      "INFO:root:skipping vertical line segment (slope=inf): [[965 408 965 419]]\n",
      "INFO:root:skipping vertical line segment (slope=inf): [[979 421 979 410]]\n",
      "INFO:root:skipping vertical line segment (slope=inf): [[977 403 977 391]]\n",
      "INFO:root:Proposed angle: 122, stabilized angle: 122\n",
      "INFO:root:skipping vertical line segment (slope=inf): [[969 419 969 405]]\n"
     ]
    },
    {
     "name": "stdout",
     "output_type": "stream",
     "text": [
      "frame 189\n",
      "frame 190\n",
      "frame 191\n"
     ]
    },
    {
     "name": "stderr",
     "output_type": "stream",
     "text": [
      "INFO:root:skipping vertical line segment (slope=inf): [[967 492 967 483]]\n",
      "INFO:root:Proposed angle: 124, stabilized angle: 124\n",
      "INFO:root:skipping vertical line segment (slope=inf): [[963 419 963 403]]\n",
      "INFO:root:skipping vertical line segment (slope=inf): [[941 442 941 421]]\n",
      "INFO:root:Proposed angle: 121, stabilized angle: 121\n",
      "INFO:root:skipping vertical line segment (slope=inf): [[919 412 919 395]]\n",
      "INFO:root:Proposed angle: 114, stabilized angle: 116\n",
      "INFO:root:skipping vertical line segment (slope=inf): [[897 413 897 405]]\n",
      "INFO:root:Proposed angle: 110, stabilized angle: 111\n"
     ]
    },
    {
     "name": "stdout",
     "output_type": "stream",
     "text": [
      "frame 192\n",
      "frame 193\n",
      "frame 194\n",
      "frame 195\n"
     ]
    },
    {
     "name": "stderr",
     "output_type": "stream",
     "text": [
      "INFO:root:skipping vertical line segment (slope=inf): [[873 388 873 367]]\n",
      "INFO:root:skipping vertical line segment (slope=inf): [[1231  706 1231  716]]\n",
      "INFO:root:Proposed angle: 102, stabilized angle: 106\n",
      "INFO:root:skipping vertical line segment (slope=inf): [[1253  694 1253  702]]\n",
      "INFO:root:skipping vertical line segment (slope=inf): [[1261  692 1261  702]]\n",
      "INFO:root:Proposed angle: 93, stabilized angle: 101\n",
      "INFO:root:skipping vertical line segment (slope=inf): [[1263  685 1263  677]]\n",
      "INFO:root:Proposed angle: 96, stabilized angle: 96\n",
      "INFO:root:skipping vertical line segment (slope=inf): [[ 55 598  55 606]]\n",
      "INFO:root:skipping vertical line segment (slope=inf): [[ 79 590  79 577]]\n",
      "INFO:root:Proposed angle: 95, stabilized angle: 95\n"
     ]
    },
    {
     "name": "stdout",
     "output_type": "stream",
     "text": [
      "frame 196\n",
      "frame 197\n",
      "frame 198\n",
      "frame 199\n"
     ]
    },
    {
     "name": "stderr",
     "output_type": "stream",
     "text": [
      "INFO:root:Proposed angle: 101, stabilized angle: 100\n",
      "INFO:root:Proposed angle: 104, stabilized angle: 104\n",
      "INFO:root:Proposed angle: 107, stabilized angle: 107\n",
      "INFO:root:skipping vertical line segment (slope=inf): [[869 432 869 421]]\n",
      "INFO:root:Proposed angle: 109, stabilized angle: 109\n"
     ]
    },
    {
     "name": "stdout",
     "output_type": "stream",
     "text": [
      "frame 200\n",
      "frame 201\n",
      "frame 202\n"
     ]
    },
    {
     "name": "stderr",
     "output_type": "stream",
     "text": [
      "INFO:root:Proposed angle: 110, stabilized angle: 110\n",
      "INFO:root:Proposed angle: 109, stabilized angle: 109\n",
      "INFO:root:Proposed angle: 110, stabilized angle: 110\n"
     ]
    },
    {
     "name": "stdout",
     "output_type": "stream",
     "text": [
      "frame 203\n",
      "frame 204\n",
      "frame 205\n",
      "frame 206"
     ]
    },
    {
     "name": "stderr",
     "output_type": "stream",
     "text": [
      "INFO:root:Proposed angle: 110, stabilized angle: 110\n",
      "INFO:root:skipping vertical line segment (slope=inf): [[877 445 877 432]]\n",
      "INFO:root:skipping vertical line segment (slope=inf): [[879 439 879 462]]\n",
      "INFO:root:Proposed angle: 112, stabilized angle: 112\n",
      "INFO:root:Proposed angle: 105, stabilized angle: 107\n"
     ]
    },
    {
     "name": "stdout",
     "output_type": "stream",
     "text": [
      "\n",
      "frame 207\n",
      "frame 208\n"
     ]
    },
    {
     "name": "stderr",
     "output_type": "stream",
     "text": [
      "INFO:root:Proposed angle: 105, stabilized angle: 105\n",
      "INFO:root:skipping vertical line segment (slope=inf): [[861 416 861 405]]\n",
      "INFO:root:Proposed angle: 103, stabilized angle: 103\n",
      "INFO:root:skipping vertical line segment (slope=inf): [[863 408 863 394]]\n",
      "INFO:root:skipping vertical line segment (slope=inf): [[1055  702 1055  688]]\n",
      "INFO:root:Proposed angle: 105, stabilized angle: 105\n"
     ]
    },
    {
     "name": "stdout",
     "output_type": "stream",
     "text": [
      "frame 209\n",
      "frame 210\n",
      "frame 211\n",
      "frame 212\n"
     ]
    },
    {
     "name": "stderr",
     "output_type": "stream",
     "text": [
      "INFO:root:Proposed angle: 103, stabilized angle: 103\n",
      "INFO:root:Proposed angle: 101, stabilized angle: 101\n",
      "INFO:root:Proposed angle: 99, stabilized angle: 99\n",
      "INFO:root:skipping vertical line segment (slope=inf): [[ 75 718  75 707]]\n",
      "INFO:root:Proposed angle: 100, stabilized angle: 100\n"
     ]
    },
    {
     "name": "stdout",
     "output_type": "stream",
     "text": [
      "frame 213\n",
      "frame 214\n",
      "frame 215\n",
      "frame 216\n"
     ]
    },
    {
     "name": "stderr",
     "output_type": "stream",
     "text": [
      "INFO:root:Proposed angle: 99, stabilized angle: 99\n",
      "INFO:root:Proposed angle: 98, stabilized angle: 98\n",
      "INFO:root:Proposed angle: 99, stabilized angle: 99\n",
      "INFO:root:Proposed angle: 106, stabilized angle: 104\n"
     ]
    },
    {
     "name": "stdout",
     "output_type": "stream",
     "text": [
      "frame 217\n",
      "frame 218\n",
      "frame 219\n",
      "frame 220"
     ]
    },
    {
     "name": "stderr",
     "output_type": "stream",
     "text": [
      "INFO:root:Proposed angle: 103, stabilized angle: 103\n",
      "INFO:root:Proposed angle: 102, stabilized angle: 102\n",
      "INFO:root:Proposed angle: 100, stabilized angle: 100\n"
     ]
    },
    {
     "name": "stdout",
     "output_type": "stream",
     "text": [
      "\n",
      "frame 221\n",
      "frame 222\n",
      "frame 223\n"
     ]
    },
    {
     "name": "stderr",
     "output_type": "stream",
     "text": [
      "INFO:root:Proposed angle: 99, stabilized angle: 99\n",
      "INFO:root:Proposed angle: 100, stabilized angle: 100\n",
      "INFO:root:skipping vertical line segment (slope=inf): [[837 425 837 411]]\n",
      "INFO:root:skipping vertical line segment (slope=inf): [[837 444 837 432]]\n",
      "INFO:root:skipping vertical line segment (slope=inf): [[817 417 817 428]]\n",
      "INFO:root:Proposed angle: 98, stabilized angle: 98\n",
      "INFO:root:skipping vertical line segment (slope=inf): [[825 432 825 419]]\n",
      "INFO:root:Proposed angle: 105, stabilized angle: 103\n"
     ]
    },
    {
     "name": "stdout",
     "output_type": "stream",
     "text": [
      "frame 224\n",
      "frame 225\n",
      "frame 226\n"
     ]
    },
    {
     "name": "stderr",
     "output_type": "stream",
     "text": [
      "INFO:root:skipping vertical line segment (slope=inf): [[833 434 833 415]]\n",
      "INFO:root:skipping vertical line segment (slope=inf): [[857 444 857 452]]\n",
      "INFO:root:skipping vertical line segment (slope=inf): [[853 426 853 413]]\n",
      "INFO:root:Proposed angle: 101, stabilized angle: 101\n",
      "INFO:root:skipping vertical line segment (slope=inf): [[849 447 849 428]]\n",
      "INFO:root:skipping vertical line segment (slope=inf): [[823 419 823 411]]\n",
      "INFO:root:skipping vertical line segment (slope=inf): [[1127  719 1127  705]]\n",
      "INFO:root:Proposed angle: 98, stabilized angle: 98\n"
     ]
    },
    {
     "name": "stdout",
     "output_type": "stream",
     "text": [
      "frame 227\n",
      "frame 228\n",
      "frame 229\n"
     ]
    },
    {
     "name": "stderr",
     "output_type": "stream",
     "text": [
      "INFO:root:Proposed angle: 99, stabilized angle: 99\n",
      "INFO:root:skipping vertical line segment (slope=inf): [[833 418 833 446]]\n",
      "INFO:root:skipping vertical line segment (slope=inf): [[863 455 863 436]]\n",
      "INFO:root:Proposed angle: 98, stabilized angle: 98\n",
      "INFO:root:Proposed angle: 102, stabilized angle: 102\n",
      "INFO:root:skipping vertical line segment (slope=inf): [[879 461 879 447]]\n",
      "INFO:root:skipping vertical line segment (slope=inf): [[863 404 863 413]]\n",
      "INFO:root:Proposed angle: 98, stabilized angle: 98\n"
     ]
    },
    {
     "name": "stdout",
     "output_type": "stream",
     "text": [
      "frame 230\n",
      "frame 231\n",
      "frame 232\n",
      "frame 233"
     ]
    },
    {
     "name": "stderr",
     "output_type": "stream",
     "text": [
      "INFO:root:Proposed angle: 100, stabilized angle: 100\n",
      "INFO:root:skipping vertical line segment (slope=inf): [[877 468 877 452]]\n",
      "INFO:root:Proposed angle: 97, stabilized angle: 97\n",
      "INFO:root:skipping vertical line segment (slope=inf): [[879 466 879 452]]\n",
      "INFO:root:skipping vertical line segment (slope=inf): [[839 418 839 428]]\n",
      "INFO:root:Proposed angle: 97, stabilized angle: 97\n"
     ]
    },
    {
     "name": "stdout",
     "output_type": "stream",
     "text": [
      "\n",
      "frame 234\n",
      "frame 235\n",
      "frame 236\n"
     ]
    },
    {
     "name": "stderr",
     "output_type": "stream",
     "text": [
      "INFO:root:skipping vertical line segment (slope=inf): [[859 425 859 417]]\n",
      "INFO:root:skipping vertical line segment (slope=inf): [[837 431 837 422]]\n",
      "INFO:root:Proposed angle: 98, stabilized angle: 98\n",
      "INFO:root:skipping vertical line segment (slope=inf): [[863 407 863 398]]\n",
      "INFO:root:Proposed angle: 102, stabilized angle: 102\n",
      "INFO:root:skipping vertical line segment (slope=inf): [[845 409 845 418]]\n",
      "INFO:root:Proposed angle: 95, stabilized angle: 97\n",
      "INFO:root:skipping vertical line segment (slope=inf): [[874 399 874 413]]\n",
      "INFO:root:Proposed angle: 96, stabilized angle: 96\n"
     ]
    },
    {
     "name": "stdout",
     "output_type": "stream",
     "text": [
      "frame 237\n",
      "frame 238\n",
      "frame 239\n"
     ]
    },
    {
     "name": "stderr",
     "output_type": "stream",
     "text": [
      "INFO:root:skipping vertical line segment (slope=inf): [[897 440 897 421]]\n",
      "INFO:root:Proposed angle: 106, stabilized angle: 101\n",
      "INFO:root:Proposed angle: 105, stabilized angle: 105\n",
      "INFO:root:Proposed angle: 105, stabilized angle: 105\n"
     ]
    },
    {
     "name": "stdout",
     "output_type": "stream",
     "text": [
      "frame 240\n",
      "frame 241\n",
      "frame 242\n",
      "frame 243\n"
     ]
    },
    {
     "name": "stderr",
     "output_type": "stream",
     "text": [
      "INFO:root:skipping vertical line segment (slope=inf): [[867 422 867 410]]\n",
      "INFO:root:Proposed angle: 106, stabilized angle: 106\n",
      "INFO:root:skipping vertical line segment (slope=inf): [[861 441 861 426]]\n",
      "INFO:root:Proposed angle: 101, stabilized angle: 101\n",
      "INFO:root:skipping vertical line segment (slope=inf): [[859 409 859 420]]\n",
      "INFO:root:Proposed angle: 100, stabilized angle: 100\n",
      "INFO:root:skipping vertical line segment (slope=inf): [[859 428 859 420]]\n",
      "INFO:root:skipping vertical line segment (slope=inf): [[861 421 861 405]]\n",
      "INFO:root:Proposed angle: 96, stabilized angle: 96\n"
     ]
    },
    {
     "name": "stdout",
     "output_type": "stream",
     "text": [
      "frame 244\n",
      "frame 245\n",
      "frame 246\n"
     ]
    },
    {
     "name": "stderr",
     "output_type": "stream",
     "text": [
      "INFO:root:Proposed angle: 98, stabilized angle: 98\n",
      "INFO:root:Proposed angle: 101, stabilized angle: 101\n",
      "INFO:root:Proposed angle: 103, stabilized angle: 103\n"
     ]
    },
    {
     "name": "stdout",
     "output_type": "stream",
     "text": [
      "frame 247\n",
      "frame 248\n",
      "frame 249\n"
     ]
    },
    {
     "name": "stderr",
     "output_type": "stream",
     "text": [
      "INFO:root:skipping vertical line segment (slope=inf): [[863 446 863 437]]\n",
      "INFO:root:Proposed angle: 102, stabilized angle: 102\n",
      "INFO:root:Proposed angle: 104, stabilized angle: 104\n"
     ]
    },
    {
     "name": "stdout",
     "output_type": "stream",
     "text": [
      "frame 250\n",
      "frame 251\n",
      "frame 252\n"
     ]
    },
    {
     "name": "stderr",
     "output_type": "stream",
     "text": [
      "INFO:root:Proposed angle: 105, stabilized angle: 105\n",
      "INFO:root:Proposed angle: 104, stabilized angle: 104\n",
      "INFO:root:Proposed angle: 104, stabilized angle: 104\n"
     ]
    },
    {
     "name": "stdout",
     "output_type": "stream",
     "text": [
      "frame 253\n",
      "frame 254\n",
      "frame 255\n"
     ]
    },
    {
     "name": "stderr",
     "output_type": "stream",
     "text": [
      "INFO:root:Proposed angle: 103, stabilized angle: 103\n",
      "INFO:root:Proposed angle: 104, stabilized angle: 104\n",
      "INFO:root:Proposed angle: 103, stabilized angle: 103\n"
     ]
    },
    {
     "name": "stdout",
     "output_type": "stream",
     "text": [
      "frame 256\n",
      "frame 257\n",
      "frame 258\n"
     ]
    },
    {
     "name": "stderr",
     "output_type": "stream",
     "text": [
      "INFO:root:Proposed angle: 100, stabilized angle: 100\n",
      "INFO:root:skipping vertical line segment (slope=inf): [[878 451 878 443]]\n",
      "INFO:root:skipping vertical line segment (slope=inf): [[879 442 879 430]]\n",
      "INFO:root:Proposed angle: 101, stabilized angle: 101\n",
      "INFO:root:skipping vertical line segment (slope=inf): [[880 460 880 437]]\n",
      "INFO:root:Proposed angle: 98, stabilized angle: 98\n"
     ]
    },
    {
     "name": "stdout",
     "output_type": "stream",
     "text": [
      "frame 259\n",
      "frame 260\n",
      "frame 261\n"
     ]
    },
    {
     "name": "stderr",
     "output_type": "stream",
     "text": [
      "INFO:root:skipping vertical line segment (slope=inf): [[879 437 879 454]]\n",
      "INFO:root:Proposed angle: 95, stabilized angle: 95\n",
      "INFO:root:skipping vertical line segment (slope=inf): [[896 462 896 446]]\n",
      "INFO:root:skipping vertical line segment (slope=inf): [[863 474 863 456]]\n",
      "INFO:root:Proposed angle: 102, stabilized angle: 100\n",
      "INFO:root:skipping vertical line segment (slope=inf): [[870 449 870 476]]\n",
      "INFO:root:skipping vertical line segment (slope=inf): [[903 460 903 448]]\n",
      "INFO:root:Proposed angle: 102, stabilized angle: 102\n"
     ]
    },
    {
     "name": "stdout",
     "output_type": "stream",
     "text": [
      "frame 262\n",
      "frame 263\n",
      "frame 264\n"
     ]
    },
    {
     "name": "stderr",
     "output_type": "stream",
     "text": [
      "INFO:root:Proposed angle: 106, stabilized angle: 106\n",
      "INFO:root:Proposed angle: 109, stabilized angle: 109\n",
      "INFO:root:skipping vertical line segment (slope=inf): [[935 472 935 462]]\n",
      "INFO:root:Proposed angle: 106, stabilized angle: 106\n"
     ]
    },
    {
     "name": "stdout",
     "output_type": "stream",
     "text": [
      "frame 265\n",
      "frame 266\n",
      "frame 267\n"
     ]
    },
    {
     "name": "stderr",
     "output_type": "stream",
     "text": [
      "INFO:root:Proposed angle: 107, stabilized angle: 107\n",
      "INFO:root:Proposed angle: 111, stabilized angle: 111\n",
      "INFO:root:Proposed angle: 111, stabilized angle: 111\n",
      "INFO:root:Proposed angle: 115, stabilized angle: 115\n"
     ]
    },
    {
     "name": "stdout",
     "output_type": "stream",
     "text": [
      "frame 268\n",
      "frame 269\n",
      "frame 270\n"
     ]
    },
    {
     "name": "stderr",
     "output_type": "stream",
     "text": [
      "INFO:root:Proposed angle: 116, stabilized angle: 116\n",
      "INFO:root:Proposed angle: 118, stabilized angle: 118\n"
     ]
    },
    {
     "name": "stdout",
     "output_type": "stream",
     "text": [
      "frame 271\n",
      "frame 272\n",
      "frame 273\n"
     ]
    },
    {
     "name": "stderr",
     "output_type": "stream",
     "text": [
      "INFO:root:Proposed angle: 118, stabilized angle: 118\n",
      "INFO:root:Proposed angle: 119, stabilized angle: 119\n",
      "INFO:root:Proposed angle: 119, stabilized angle: 119\n"
     ]
    },
    {
     "name": "stdout",
     "output_type": "stream",
     "text": [
      "frame 274\n",
      "frame 275\n",
      "frame 276\n"
     ]
    },
    {
     "name": "stderr",
     "output_type": "stream",
     "text": [
      "INFO:root:Proposed angle: 119, stabilized angle: 119\n",
      "INFO:root:Proposed angle: 116, stabilized angle: 116\n",
      "INFO:root:Proposed angle: 120, stabilized angle: 120\n",
      "INFO:root:Proposed angle: 122, stabilized angle: 122\n"
     ]
    },
    {
     "name": "stdout",
     "output_type": "stream",
     "text": [
      "frame 277\n",
      "frame 278\n",
      "frame 279\n",
      "frame 280\n"
     ]
    },
    {
     "name": "stderr",
     "output_type": "stream",
     "text": [
      "INFO:root:Proposed angle: 122, stabilized angle: 122\n",
      "INFO:root:skipping vertical line segment (slope=inf): [[1074  585 1074  577]]\n",
      "INFO:root:Proposed angle: 123, stabilized angle: 123\n",
      "INFO:root:skipping vertical line segment (slope=inf): [[1103  566 1103  555]]\n",
      "INFO:root:skipping vertical line segment (slope=inf): [[1098  593 1098  582]]\n",
      "INFO:root:Proposed angle: 128, stabilized angle: 128\n"
     ]
    },
    {
     "name": "stdout",
     "output_type": "stream",
     "text": [
      "frame 281\n",
      "frame 282\n"
     ]
    },
    {
     "name": "stderr",
     "output_type": "stream",
     "text": [
      "INFO:root:skipping vertical line segment (slope=inf): [[1122  523 1122  531]]\n",
      "INFO:root:Proposed angle: 127, stabilized angle: 127\n",
      "INFO:root:skipping vertical line segment (slope=inf): [[1137  599 1137  608]]\n",
      "INFO:root:skipping vertical line segment (slope=inf): [[1084  562 1084  551]]\n",
      "INFO:root:skipping vertical line segment (slope=inf): [[1083  585 1083  541]]\n",
      "INFO:root:Proposed angle: 131, stabilized angle: 131\n"
     ]
    },
    {
     "name": "stdout",
     "output_type": "stream",
     "text": [
      "frame 283\n",
      "frame 284\n",
      "frame 285"
     ]
    },
    {
     "name": "stderr",
     "output_type": "stream",
     "text": [
      "INFO:root:skipping vertical line segment (slope=inf): [[1089  526 1089  534]]\n",
      "INFO:root:skipping vertical line segment (slope=inf): [[1091  648 1091  640]]\n",
      "INFO:root:skipping vertical line segment (slope=inf): [[1091  617 1091  625]]\n",
      "INFO:root:skipping vertical line segment (slope=inf): [[1089  589 1089  579]]\n",
      "INFO:root:Proposed angle: 132, stabilized angle: 132\n",
      "INFO:root:skipping vertical line segment (slope=inf): [[1095  636 1095  599]]\n",
      "INFO:root:skipping vertical line segment (slope=inf): [[1093  597 1093  580]]\n",
      "INFO:root:skipping vertical line segment (slope=inf): [[1094  607 1094  598]]\n",
      "INFO:root:Proposed angle: 131, stabilized angle: 131\n",
      "INFO:root:skipping vertical line segment (slope=inf): [[1111  651 1111  641]]\n"
     ]
    },
    {
     "name": "stdout",
     "output_type": "stream",
     "text": [
      "\n",
      "frame 286\n",
      "frame 287\n"
     ]
    },
    {
     "name": "stderr",
     "output_type": "stream",
     "text": [
      "INFO:root:skipping vertical line segment (slope=inf): [[1145  527 1145  517]]\n",
      "INFO:root:Proposed angle: 134, stabilized angle: 134\n",
      "INFO:root:skipping vertical line segment (slope=inf): [[1117  607 1117  615]]\n",
      "INFO:root:skipping vertical line segment (slope=inf): [[1151  529 1151  509]]\n",
      "INFO:root:skipping vertical line segment (slope=inf): [[1183  699 1183  689]]\n",
      "INFO:root:Proposed angle: 132, stabilized angle: 132\n",
      "INFO:root:skipping vertical line segment (slope=inf): [[1206  681 1206  690]]\n",
      "INFO:root:skipping vertical line segment (slope=inf): [[1159  568 1159  560]]\n",
      "INFO:root:skipping vertical line segment (slope=inf): [[1203  713 1203  699]]\n",
      "INFO:root:skipping vertical line segment (slope=inf): [[1141  662 1141  653]]\n",
      "INFO:root:Proposed angle: 135, stabilized angle: 135\n",
      "INFO:root:skipping vertical line segment (slope=inf): [[1147  658 1147  694]]\n",
      "INFO:root:skipping vertical line segment (slope=inf): [[1163  564 1163  493]]\n"
     ]
    },
    {
     "name": "stdout",
     "output_type": "stream",
     "text": [
      "frame 288\n",
      "frame 289\n",
      "frame 290\n"
     ]
    },
    {
     "name": "stderr",
     "output_type": "stream",
     "text": [
      "INFO:root:skipping vertical line segment (slope=inf): [[1117  576 1117  567]]\n",
      "INFO:root:Proposed angle: 134, stabilized angle: 134\n",
      "INFO:root:skipping vertical line segment (slope=inf): [[1164  523 1164  511]]\n",
      "INFO:root:skipping vertical line segment (slope=inf): [[1165  562 1165  528]]\n",
      "INFO:root:skipping vertical line segment (slope=inf): [[1163  510 1163  495]]\n",
      "INFO:root:Proposed angle: 135, stabilized angle: 135\n",
      "INFO:root:skipping vertical line segment (slope=inf): [[1131  588 1131  540]]\n",
      "INFO:root:skipping vertical line segment (slope=inf): [[1177  709 1177  719]]\n",
      "INFO:root:skipping vertical line segment (slope=inf): [[1175  718 1175  704]]\n",
      "INFO:root:skipping vertical line segment (slope=inf): [[1133  528 1133  515]]\n",
      "INFO:root:Proposed angle: 139, stabilized angle: 139\n",
      "INFO:root:skipping vertical line segment (slope=inf): [[1135  590 1135  560]]\n"
     ]
    },
    {
     "name": "stdout",
     "output_type": "stream",
     "text": [
      "frame 291\n",
      "frame 292\n",
      "frame 293\n"
     ]
    },
    {
     "name": "stderr",
     "output_type": "stream",
     "text": [
      "INFO:root:skipping vertical line segment (slope=inf): [[1187  454 1187  444]]\n",
      "INFO:root:skipping vertical line segment (slope=inf): [[1135  537 1135  502]]\n",
      "INFO:root:skipping vertical line segment (slope=inf): [[1175  536 1175  523]]\n",
      "INFO:root:skipping vertical line segment (slope=inf): [[1171  493 1171  510]]\n",
      "INFO:root:skipping vertical line segment (slope=inf): [[1183  719 1183  702]]\n",
      "INFO:root:skipping vertical line segment (slope=inf): [[1167  671 1167  663]]\n",
      "INFO:root:skipping vertical line segment (slope=inf): [[1173  512 1173  520]]\n",
      "INFO:root:Proposed angle: 137, stabilized angle: 137\n",
      "INFO:root:skipping vertical line segment (slope=inf): [[1143  500 1143  517]]\n",
      "INFO:root:skipping vertical line segment (slope=inf): [[1145  573 1145  553]]\n",
      "INFO:root:skipping vertical line segment (slope=inf): [[1191  455 1191  447]]\n",
      "INFO:root:skipping vertical line segment (slope=inf): [[1195  582 1195  590]]\n",
      "INFO:root:skipping vertical line segment (slope=inf): [[1199  701 1199  711]]\n",
      "INFO:root:Proposed angle: 140, stabilized angle: 140\n",
      "INFO:root:skipping vertical line segment (slope=inf): [[1193  447 1193  459]]\n",
      "INFO:root:skipping vertical line segment (slope=inf): [[1191  461 1191  471]]\n",
      "INFO:root:skipping vertical line segment (slope=inf): [[1157  590 1157  578]]\n",
      "INFO:root:skipping vertical line segment (slope=inf): [[1205  590 1205  576]]\n",
      "INFO:root:skipping vertical line segment (slope=inf): [[1199  686 1199  675]]\n",
      "INFO:root:skipping vertical line segment (slope=inf): [[1205  691 1205  699]]\n",
      "INFO:root:Proposed angle: 140, stabilized angle: 140\n"
     ]
    },
    {
     "name": "stdout",
     "output_type": "stream",
     "text": [
      "frame 294\n",
      "frame 295\n",
      "frame 296\n"
     ]
    },
    {
     "name": "stderr",
     "output_type": "stream",
     "text": [
      "INFO:root:skipping vertical line segment (slope=inf): [[1195  493 1195  443]]\n",
      "INFO:root:skipping vertical line segment (slope=inf): [[1231  663 1231  655]]\n",
      "INFO:root:skipping vertical line segment (slope=inf): [[1215  660 1215  649]]\n",
      "INFO:root:Proposed angle: 141, stabilized angle: 141\n",
      "INFO:root:skipping vertical line segment (slope=inf): [[1195  493 1195  469]]\n",
      "INFO:root:skipping vertical line segment (slope=inf): [[1194  468 1194  444]]\n",
      "INFO:root:skipping vertical line segment (slope=inf): [[1193  520 1193  495]]\n",
      "INFO:root:skipping vertical line segment (slope=inf): [[1169  456 1169  465]]\n",
      "INFO:root:skipping vertical line segment (slope=inf): [[1170  455 1170  447]]\n",
      "INFO:root:Proposed angle: 141, stabilized angle: 141\n",
      "INFO:root:skipping vertical line segment (slope=inf): [[1187  507 1187  464]]\n",
      "INFO:root:skipping vertical line segment (slope=inf): [[1185  445 1185  462]]\n",
      "INFO:root:skipping vertical line segment (slope=inf): [[1167  596 1167  607]]\n",
      "INFO:root:skipping vertical line segment (slope=inf): [[1231  686 1231  675]]\n",
      "INFO:root:Proposed angle: 140, stabilized angle: 140\n",
      "INFO:root:skipping vertical line segment (slope=inf): [[1177  522 1177  509]]\n"
     ]
    },
    {
     "name": "stdout",
     "output_type": "stream",
     "text": [
      "frame 297\n",
      "frame 298\n",
      "frame 299\n"
     ]
    },
    {
     "name": "stderr",
     "output_type": "stream",
     "text": [
      "INFO:root:skipping vertical line segment (slope=inf): [[1177  477 1177  485]]\n",
      "INFO:root:skipping vertical line segment (slope=inf): [[1231  703 1231  687]]\n",
      "INFO:root:skipping vertical line segment (slope=inf): [[1179  506 1179  496]]\n",
      "INFO:root:skipping vertical line segment (slope=inf): [[1163  618 1163  610]]\n",
      "INFO:root:Proposed angle: 138, stabilized angle: 138\n",
      "INFO:root:skipping vertical line segment (slope=inf): [[1177  526 1177  481]]\n",
      "INFO:root:skipping vertical line segment (slope=inf): [[1141  529 1141  521]]\n",
      "INFO:root:skipping vertical line segment (slope=inf): [[1175  478 1175  466]]\n",
      "INFO:root:skipping vertical line segment (slope=inf): [[1171  460 1171  449]]\n",
      "INFO:root:Proposed angle: 136, stabilized angle: 136\n",
      "INFO:root:skipping vertical line segment (slope=inf): [[1165  526 1165  498]]\n",
      "INFO:root:skipping vertical line segment (slope=inf): [[1132  450 1132  488]]\n",
      "INFO:root:skipping vertical line segment (slope=inf): [[1215  719 1215  711]]\n",
      "INFO:root:skipping vertical line segment (slope=inf): [[1129  531 1129  520]]\n",
      "INFO:root:skipping vertical line segment (slope=inf): [[1131  489 1131  500]]\n",
      "INFO:root:skipping vertical line segment (slope=inf): [[1211  719 1211  705]]\n",
      "INFO:root:skipping vertical line segment (slope=inf): [[1161  466 1161  475]]\n",
      "INFO:root:Proposed angle: 137, stabilized angle: 137\n"
     ]
    },
    {
     "name": "stdout",
     "output_type": "stream",
     "text": [
      "frame 300\n",
      "frame 301\n",
      "frame 302\n"
     ]
    },
    {
     "name": "stderr",
     "output_type": "stream",
     "text": [
      "INFO:root:skipping vertical line segment (slope=inf): [[1137  540 1137  529]]\n",
      "INFO:root:skipping vertical line segment (slope=inf): [[1167  638 1167  623]]\n",
      "INFO:root:skipping vertical line segment (slope=inf): [[1166  618 1166  626]]\n",
      "INFO:root:Proposed angle: 138, stabilized angle: 138\n",
      "INFO:root:skipping vertical line segment (slope=inf): [[1143  479 1143  494]]\n",
      "INFO:root:skipping vertical line segment (slope=inf): [[1142  468 1142  452]]\n",
      "INFO:root:Proposed angle: 139, stabilized angle: 139\n",
      "INFO:root:skipping vertical line segment (slope=inf): [[1146  477 1146  463]]\n",
      "INFO:root:skipping vertical line segment (slope=inf): [[1175  629 1175  616]]\n",
      "INFO:root:skipping vertical line segment (slope=inf): [[1145  514 1145  500]]\n",
      "INFO:root:Proposed angle: 139, stabilized angle: 139\n",
      "INFO:root:skipping vertical line segment (slope=inf): [[1187  510 1187  494]]\n"
     ]
    },
    {
     "name": "stdout",
     "output_type": "stream",
     "text": [
      "frame 303\n",
      "frame 304\n",
      "frame 305\n"
     ]
    },
    {
     "name": "stderr",
     "output_type": "stream",
     "text": [
      "INFO:root:skipping vertical line segment (slope=inf): [[1155  497 1155  463]]\n",
      "INFO:root:skipping vertical line segment (slope=inf): [[1183  626 1183  608]]\n",
      "INFO:root:skipping vertical line segment (slope=inf): [[1189  523 1189  512]]\n",
      "INFO:root:skipping vertical line segment (slope=inf): [[1153  521 1153  509]]\n",
      "INFO:root:Proposed angle: 140, stabilized angle: 140\n",
      "INFO:root:skipping vertical line segment (slope=inf): [[1187  516 1187  503]]\n",
      "INFO:root:skipping vertical line segment (slope=inf): [[1154  450 1154  462]]\n",
      "INFO:root:skipping vertical line segment (slope=inf): [[1155  491 1155  477]]\n",
      "INFO:root:skipping vertical line segment (slope=inf): [[1185  498 1185  490]]\n",
      "INFO:root:Proposed angle: 139, stabilized angle: 139\n",
      "INFO:root:skipping vertical line segment (slope=inf): [[1149  490 1149  472]]\n",
      "INFO:root:skipping vertical line segment (slope=inf): [[1147  536 1147  528]]\n",
      "INFO:root:skipping vertical line segment (slope=inf): [[1177  629 1177  621]]\n",
      "INFO:root:skipping vertical line segment (slope=inf): [[1187  660 1187  676]]\n",
      "INFO:root:Proposed angle: 140, stabilized angle: 140\n",
      "INFO:root:skipping vertical line segment (slope=inf): [[1142  512 1142  503]]\n",
      "INFO:root:skipping vertical line segment (slope=inf): [[1143  502 1143  467]]\n",
      "INFO:root:skipping vertical line segment (slope=inf): [[1177  515 1177  530]]\n"
     ]
    },
    {
     "name": "stdout",
     "output_type": "stream",
     "text": [
      "frame 306\n",
      "frame 307\n",
      "frame 308\n"
     ]
    },
    {
     "name": "stderr",
     "output_type": "stream",
     "text": [
      "INFO:root:skipping vertical line segment (slope=inf): [[1142  466 1142  458]]\n",
      "INFO:root:skipping vertical line segment (slope=inf): [[1141  521 1141  513]]\n",
      "INFO:root:skipping vertical line segment (slope=inf): [[1174  630 1174  641]]\n",
      "INFO:root:Proposed angle: 140, stabilized angle: 140\n",
      "INFO:root:Proposed angle: 138, stabilized angle: 138\n",
      "INFO:root:skipping vertical line segment (slope=inf): [[260 685 260 693]]\n",
      "INFO:root:Proposed angle: 138, stabilized angle: 138\n",
      "INFO:root:Proposed angle: 138, stabilized angle: 138\n"
     ]
    },
    {
     "name": "stdout",
     "output_type": "stream",
     "text": [
      "frame 309\n",
      "frame 310\n",
      "frame 311\n",
      "frame 312"
     ]
    },
    {
     "name": "stderr",
     "output_type": "stream",
     "text": [
      "INFO:root:skipping vertical line segment (slope=inf): [[1167  614 1167  585]]\n",
      "INFO:root:skipping vertical line segment (slope=inf): [[1135  431 1135  417]]\n",
      "INFO:root:Proposed angle: 136, stabilized angle: 136\n",
      "INFO:root:skipping vertical line segment (slope=inf): [[1167  614 1167  622]]\n",
      "INFO:root:skipping vertical line segment (slope=inf): [[1111  430 1111  415]]\n",
      "INFO:root:skipping vertical line segment (slope=inf): [[1179  631 1179  615]]\n",
      "INFO:root:Proposed angle: 135, stabilized angle: 135\n"
     ]
    },
    {
     "name": "stdout",
     "output_type": "stream",
     "text": [
      "\n",
      "frame 313\n",
      "frame 314\n"
     ]
    },
    {
     "name": "stderr",
     "output_type": "stream",
     "text": [
      "INFO:root:skipping vertical line segment (slope=inf): [[1173  719 1173  705]]\n",
      "INFO:root:skipping vertical line segment (slope=inf): [[1089  429 1089  413]]\n",
      "INFO:root:Proposed angle: 130, stabilized angle: 130\n",
      "INFO:root:Proposed angle: 129, stabilized angle: 129\n",
      "INFO:root:skipping vertical line segment (slope=inf): [[1061  437 1061  415]]\n",
      "INFO:root:Proposed angle: 127, stabilized angle: 127\n",
      "INFO:root:skipping vertical line segment (slope=inf): [[1049  449 1049  437]]\n",
      "INFO:root:skipping vertical line segment (slope=inf): [[1049  430 1049  417]]\n",
      "INFO:root:skipping vertical line segment (slope=inf): [[1049  532 1049  540]]\n",
      "INFO:root:Proposed angle: 127, stabilized angle: 127\n"
     ]
    },
    {
     "name": "stdout",
     "output_type": "stream",
     "text": [
      "frame 315\n",
      "frame 316\n",
      "frame 317\n",
      "frame 318\n"
     ]
    },
    {
     "name": "stderr",
     "output_type": "stream",
     "text": [
      "INFO:root:skipping vertical line segment (slope=inf): [[1039  466 1039  430]]\n",
      "INFO:root:Proposed angle: 125, stabilized angle: 125\n",
      "INFO:root:skipping vertical line segment (slope=inf): [[995 440 995 424]]\n",
      "INFO:root:skipping vertical line segment (slope=inf): [[1021  440 1021  468]]\n",
      "INFO:root:Proposed angle: 123, stabilized angle: 123\n",
      "INFO:root:skipping vertical line segment (slope=inf): [[1017  440 1017  471]]\n",
      "INFO:root:skipping vertical line segment (slope=inf): [[990 444 990 430]]\n"
     ]
    },
    {
     "name": "stdout",
     "output_type": "stream",
     "text": [
      "frame 319\n",
      "frame 320\n"
     ]
    },
    {
     "name": "stderr",
     "output_type": "stream",
     "text": [
      "INFO:root:Proposed angle: 122, stabilized angle: 122\n",
      "INFO:root:skipping vertical line segment (slope=inf): [[988 436 988 417]]\n",
      "INFO:root:Proposed angle: 123, stabilized angle: 123\n",
      "INFO:root:skipping vertical line segment (slope=inf): [[982 469 982 480]]\n",
      "INFO:root:skipping vertical line segment (slope=inf): [[983 448 983 456]]\n",
      "INFO:root:skipping vertical line segment (slope=inf): [[983 457 983 468]]\n",
      "INFO:root:skipping vertical line segment (slope=inf): [[1003  416 1003  426]]\n",
      "INFO:root:Proposed angle: 122, stabilized angle: 122\n",
      "INFO:root:Proposed angle: 120, stabilized angle: 120\n"
     ]
    },
    {
     "name": "stdout",
     "output_type": "stream",
     "text": [
      "frame 321\n",
      "frame 322\n",
      "frame 323\n",
      "frame 324\n"
     ]
    },
    {
     "name": "stderr",
     "output_type": "stream",
     "text": [
      "INFO:root:Proposed angle: 121, stabilized angle: 121\n",
      "INFO:root:skipping vertical line segment (slope=inf): [[959 430 959 412]]\n",
      "INFO:root:Proposed angle: 118, stabilized angle: 118\n",
      "INFO:root:skipping vertical line segment (slope=inf): [[961 432 961 411]]\n",
      "INFO:root:skipping vertical line segment (slope=inf): [[983 414 983 422]]\n",
      "INFO:root:Proposed angle: 117, stabilized angle: 117\n",
      "INFO:root:skipping vertical line segment (slope=inf): [[961 428 961 411]]\n",
      "INFO:root:Proposed angle: 118, stabilized angle: 118\n"
     ]
    },
    {
     "name": "stdout",
     "output_type": "stream",
     "text": [
      "frame 325\n",
      "frame 326\n",
      "frame 327\n",
      "frame 328"
     ]
    },
    {
     "name": "stderr",
     "output_type": "stream",
     "text": [
      "INFO:root:Proposed angle: 119, stabilized angle: 119\n",
      "INFO:root:Proposed angle: 118, stabilized angle: 118\n",
      "INFO:root:skipping vertical line segment (slope=inf): [[960 428 960 416]]\n",
      "INFO:root:Proposed angle: 119, stabilized angle: 119\n"
     ]
    },
    {
     "name": "stdout",
     "output_type": "stream",
     "text": [
      "\n",
      "frame 329\n",
      "frame 330\n",
      "frame 331"
     ]
    },
    {
     "name": "stderr",
     "output_type": "stream",
     "text": [
      "INFO:root:skipping vertical line segment (slope=inf): [[992 496 992 506]]\n",
      "INFO:root:Proposed angle: 120, stabilized angle: 120\n",
      "INFO:root:skipping vertical line segment (slope=inf): [[991 484 991 472]]\n",
      "INFO:root:Proposed angle: 118, stabilized angle: 118\n",
      "INFO:root:skipping vertical line segment (slope=inf): [[993 533 993 542]]\n"
     ]
    },
    {
     "name": "stdout",
     "output_type": "stream",
     "text": [
      "\n",
      "frame 332\n",
      "frame 333\n"
     ]
    },
    {
     "name": "stderr",
     "output_type": "stream",
     "text": [
      "INFO:root:Proposed angle: 119, stabilized angle: 119\n",
      "INFO:root:Proposed angle: 117, stabilized angle: 117\n",
      "INFO:root:skipping vertical line segment (slope=inf): [[960 440 960 425]]\n",
      "INFO:root:skipping vertical line segment (slope=inf): [[959 470 959 460]]\n",
      "INFO:root:Proposed angle: 118, stabilized angle: 118\n",
      "INFO:root:Proposed angle: 114, stabilized angle: 114\n"
     ]
    },
    {
     "name": "stdout",
     "output_type": "stream",
     "text": [
      "frame 334\n",
      "frame 335\n",
      "frame 336\n",
      "frame 337"
     ]
    },
    {
     "name": "stderr",
     "output_type": "stream",
     "text": [
      "INFO:root:Proposed angle: 115, stabilized angle: 115\n",
      "INFO:root:Proposed angle: 113, stabilized angle: 113\n",
      "INFO:root:Proposed angle: 110, stabilized angle: 110\n"
     ]
    },
    {
     "name": "stdout",
     "output_type": "stream",
     "text": [
      "\n",
      "frame 338\n",
      "frame 339\n",
      "frame 340\n"
     ]
    },
    {
     "name": "stderr",
     "output_type": "stream",
     "text": [
      "INFO:root:Proposed angle: 111, stabilized angle: 111\n",
      "INFO:root:skipping vertical line segment (slope=inf): [[1071  600 1071  622]]\n",
      "INFO:root:Proposed angle: 112, stabilized angle: 112\n",
      "INFO:root:Proposed angle: 109, stabilized angle: 109\n",
      "INFO:root:Proposed angle: 110, stabilized angle: 110\n"
     ]
    },
    {
     "name": "stdout",
     "output_type": "stream",
     "text": [
      "frame 341\n",
      "frame 342\n",
      "frame 343\n"
     ]
    },
    {
     "name": "stderr",
     "output_type": "stream",
     "text": [
      "INFO:root:skipping vertical line segment (slope=inf): [[1089  672 1089  655]]\n",
      "INFO:root:Proposed angle: 111, stabilized angle: 111\n",
      "INFO:root:skipping vertical line segment (slope=inf): [[413 571 413 549]]\n",
      "INFO:root:skipping vertical line segment (slope=inf): [[1125  716 1125  703]]\n",
      "INFO:root:Proposed angle: 104, stabilized angle: 106\n",
      "INFO:root:skipping vertical line segment (slope=inf): [[1140  716 1140  706]]\n"
     ]
    },
    {
     "name": "stdout",
     "output_type": "stream",
     "text": [
      "frame 344\n",
      "frame 345\n",
      "frame 346\n"
     ]
    },
    {
     "name": "stderr",
     "output_type": "stream",
     "text": [
      "INFO:root:skipping vertical line segment (slope=inf): [[1151  702 1151  694]]\n",
      "INFO:root:Proposed angle: 103, stabilized angle: 103\n",
      "INFO:root:skipping vertical line segment (slope=inf): [[463 530 463 507]]\n",
      "INFO:root:Proposed angle: 101, stabilized angle: 101\n",
      "INFO:root:Proposed angle: 106, stabilized angle: 106\n",
      "INFO:root:skipping vertical line segment (slope=inf): [[407 563 407 538]]\n"
     ]
    },
    {
     "name": "stdout",
     "output_type": "stream",
     "text": [
      "frame 347\n",
      "frame 348\n",
      "frame 349\n"
     ]
    },
    {
     "name": "stderr",
     "output_type": "stream",
     "text": [
      "INFO:root:Proposed angle: 101, stabilized angle: 101\n",
      "INFO:root:skipping vertical line segment (slope=inf): [[415 566 415 557]]\n",
      "INFO:root:Proposed angle: 104, stabilized angle: 104\n",
      "INFO:root:Proposed angle: 106, stabilized angle: 106\n",
      "INFO:root:skipping vertical line segment (slope=inf): [[223 688 223 699]]\n",
      "INFO:root:skipping vertical line segment (slope=inf): [[207 719 207 706]]\n",
      "INFO:root:skipping vertical line segment (slope=inf): [[159 710 159 689]]\n",
      "INFO:root:skipping vertical line segment (slope=inf): [[181 719 181 705]]\n",
      "INFO:root:Proposed angle: 22, stabilized angle: 101\n"
     ]
    },
    {
     "name": "stdout",
     "output_type": "stream",
     "text": [
      "frame 350\n",
      "frame 351\n",
      "frame 352\n",
      "frame 353"
     ]
    },
    {
     "name": "stderr",
     "output_type": "stream",
     "text": [
      "INFO:root:skipping vertical line segment (slope=inf): [[207 707 207 688]]\n",
      "INFO:root:Proposed angle: 151, stabilized angle: 102\n",
      "INFO:root:skipping vertical line segment (slope=inf): [[191 719 191 706]]\n",
      "INFO:root:skipping vertical line segment (slope=inf): [[223 670 223 683]]\n",
      "INFO:root:skipping vertical line segment (slope=inf): [[207 711 207 689]]\n",
      "INFO:root:Proposed angle: 99, stabilized angle: 99\n",
      "INFO:root:skipping vertical line segment (slope=inf): [[239 686 239 672]]\n",
      "INFO:root:Proposed angle: 100, stabilized angle: 100\n",
      "INFO:root:skipping vertical line segment (slope=inf): [[255 686 255 675]]\n"
     ]
    },
    {
     "name": "stdout",
     "output_type": "stream",
     "text": [
      "\n",
      "frame 354\n",
      "frame 355\n",
      "frame 356\n"
     ]
    },
    {
     "name": "stderr",
     "output_type": "stream",
     "text": [
      "INFO:root:Proposed angle: 98, stabilized angle: 98\n",
      "INFO:root:skipping vertical line segment (slope=inf): [[223 694 223 673]]\n",
      "INFO:root:skipping vertical line segment (slope=inf): [[223 664 223 656]]\n",
      "INFO:root:Proposed angle: 97, stabilized angle: 97\n",
      "INFO:root:skipping vertical line segment (slope=inf): [[255 653 255 641]]\n",
      "INFO:root:skipping vertical line segment (slope=inf): [[240 663 240 673]]\n",
      "INFO:root:skipping vertical line segment (slope=inf): [[207 661 207 648]]\n",
      "INFO:root:Proposed angle: 98, stabilized angle: 98\n",
      "INFO:root:skipping vertical line segment (slope=inf): [[127 719 127 709]]\n",
      "INFO:root:skipping vertical line segment (slope=inf): [[239 652 239 641]]\n",
      "INFO:root:Proposed angle: 98, stabilized angle: 98\n"
     ]
    },
    {
     "name": "stdout",
     "output_type": "stream",
     "text": [
      "frame 357\n",
      "frame 358\n",
      "frame 359\n",
      "frame 360\n"
     ]
    },
    {
     "name": "stderr",
     "output_type": "stream",
     "text": [
      "INFO:root:skipping vertical line segment (slope=inf): [[255 663 255 615]]\n",
      "INFO:root:Proposed angle: 82, stabilized angle: 93\n",
      "INFO:root:skipping vertical line segment (slope=inf): [[253 640 253 655]]\n",
      "INFO:root:Proposed angle: 91, stabilized angle: 91\n",
      "INFO:root:Proposed angle: 91, stabilized angle: 91\n",
      "INFO:root:Proposed angle: 84, stabilized angle: 86\n",
      "INFO:root:Proposed angle: 95, stabilized angle: 91\n"
     ]
    },
    {
     "name": "stdout",
     "output_type": "stream",
     "text": [
      "frame 361\n",
      "frame 362\n",
      "frame 363\n",
      "frame 364\n"
     ]
    },
    {
     "name": "stderr",
     "output_type": "stream",
     "text": [
      "INFO:root:Proposed angle: 123, stabilized angle: 96\n",
      "INFO:root:Proposed angle: 53, stabilized angle: 95\n",
      "INFO:root:Proposed angle: 49, stabilized angle: 94\n",
      "INFO:root:No line_segment segments detected\n",
      "ERROR:root:No lane lines detected, nothing to do.\n",
      "INFO:root:No line_segment segments detected\n"
     ]
    },
    {
     "name": "stdout",
     "output_type": "stream",
     "text": [
      "frame 365\n",
      "frame 366\n",
      "frame 367\n",
      "frame 368\n",
      "frame 369\n"
     ]
    },
    {
     "name": "stderr",
     "output_type": "stream",
     "text": [
      "ERROR:root:No lane lines detected, nothing to do.\n",
      "INFO:root:No line_segment segments detected\n",
      "ERROR:root:No lane lines detected, nothing to do.\n",
      "INFO:root:No line_segment segments detected\n",
      "ERROR:root:No lane lines detected, nothing to do.\n",
      "INFO:root:No line_segment segments detected\n",
      "ERROR:root:No lane lines detected, nothing to do.\n",
      "INFO:root:No line_segment segments detected\n",
      "ERROR:root:No lane lines detected, nothing to do.\n",
      "INFO:root:No line_segment segments detected\n",
      "ERROR:root:No lane lines detected, nothing to do.\n"
     ]
    },
    {
     "name": "stdout",
     "output_type": "stream",
     "text": [
      "frame 370\n",
      "frame 371\n",
      "frame 372\n",
      "frame 373\n",
      "frame 374\n",
      "frame 375\n"
     ]
    },
    {
     "name": "stderr",
     "output_type": "stream",
     "text": [
      "INFO:root:No line_segment segments detected\n",
      "ERROR:root:No lane lines detected, nothing to do.\n",
      "INFO:root:No line_segment segments detected\n",
      "ERROR:root:No lane lines detected, nothing to do.\n",
      "INFO:root:No line_segment segments detected\n",
      "ERROR:root:No lane lines detected, nothing to do.\n",
      "INFO:root:No line_segment segments detected\n",
      "ERROR:root:No lane lines detected, nothing to do.\n",
      "INFO:root:No line_segment segments detected\n",
      "ERROR:root:No lane lines detected, nothing to do.\n",
      "INFO:root:No line_segment segments detected\n",
      "ERROR:root:No lane lines detected, nothing to do.\n"
     ]
    },
    {
     "name": "stdout",
     "output_type": "stream",
     "text": [
      "frame 376\n",
      "frame 377\n",
      "frame 378\n",
      "frame 379\n",
      "frame 380\n",
      "frame 381\n"
     ]
    },
    {
     "name": "stderr",
     "output_type": "stream",
     "text": [
      "INFO:root:No line_segment segments detected\n",
      "ERROR:root:No lane lines detected, nothing to do.\n",
      "INFO:root:No line_segment segments detected\n",
      "ERROR:root:No lane lines detected, nothing to do.\n",
      "INFO:root:No line_segment segments detected\n",
      "ERROR:root:No lane lines detected, nothing to do.\n",
      "INFO:root:No line_segment segments detected\n",
      "ERROR:root:No lane lines detected, nothing to do.\n",
      "INFO:root:No line_segment segments detected\n",
      "ERROR:root:No lane lines detected, nothing to do.\n",
      "INFO:root:No line_segment segments detected\n",
      "ERROR:root:No lane lines detected, nothing to do.\n"
     ]
    },
    {
     "name": "stdout",
     "output_type": "stream",
     "text": [
      "frame 382\n",
      "frame 383\n",
      "frame 384\n",
      "frame 385\n",
      "frame 386\n"
     ]
    },
    {
     "name": "stderr",
     "output_type": "stream",
     "text": [
      "INFO:root:No line_segment segments detected\n",
      "ERROR:root:No lane lines detected, nothing to do.\n",
      "INFO:root:No line_segment segments detected\n",
      "ERROR:root:No lane lines detected, nothing to do.\n",
      "INFO:root:No line_segment segments detected\n",
      "ERROR:root:No lane lines detected, nothing to do.\n",
      "INFO:root:No line_segment segments detected\n",
      "ERROR:root:No lane lines detected, nothing to do.\n",
      "INFO:root:No line_segment segments detected\n",
      "ERROR:root:No lane lines detected, nothing to do.\n"
     ]
    },
    {
     "name": "stdout",
     "output_type": "stream",
     "text": [
      "frame 387\n",
      "frame 388\n",
      "frame 389\n",
      "frame 390\n",
      "frame 391\n",
      "frame 392\n"
     ]
    },
    {
     "name": "stderr",
     "output_type": "stream",
     "text": [
      "INFO:root:No line_segment segments detected\n",
      "ERROR:root:No lane lines detected, nothing to do.\n",
      "INFO:root:No line_segment segments detected\n",
      "ERROR:root:No lane lines detected, nothing to do.\n",
      "INFO:root:No line_segment segments detected\n",
      "ERROR:root:No lane lines detected, nothing to do.\n",
      "INFO:root:No line_segment segments detected\n",
      "ERROR:root:No lane lines detected, nothing to do.\n",
      "INFO:root:No line_segment segments detected\n",
      "ERROR:root:No lane lines detected, nothing to do.\n",
      "INFO:root:No line_segment segments detected\n",
      "ERROR:root:No lane lines detected, nothing to do.\n"
     ]
    },
    {
     "name": "stdout",
     "output_type": "stream",
     "text": [
      "frame 393\n",
      "frame 394\n",
      "frame 395\n",
      "frame 396\n",
      "frame 397\n",
      "frame 398\n"
     ]
    },
    {
     "name": "stderr",
     "output_type": "stream",
     "text": [
      "INFO:root:No line_segment segments detected\n",
      "ERROR:root:No lane lines detected, nothing to do.\n",
      "INFO:root:No line_segment segments detected\n",
      "ERROR:root:No lane lines detected, nothing to do.\n",
      "INFO:root:No line_segment segments detected\n",
      "ERROR:root:No lane lines detected, nothing to do.\n",
      "INFO:root:No line_segment segments detected\n",
      "ERROR:root:No lane lines detected, nothing to do.\n",
      "INFO:root:No line_segment segments detected\n",
      "ERROR:root:No lane lines detected, nothing to do.\n",
      "INFO:root:No line_segment segments detected\n",
      "ERROR:root:No lane lines detected, nothing to do.\n"
     ]
    },
    {
     "name": "stdout",
     "output_type": "stream",
     "text": [
      "frame 399\n",
      "frame 400\n",
      "frame 401\n",
      "frame 402\n",
      "frame 403\n",
      "frame 404\n"
     ]
    },
    {
     "name": "stderr",
     "output_type": "stream",
     "text": [
      "INFO:root:No line_segment segments detected\n",
      "ERROR:root:No lane lines detected, nothing to do.\n",
      "INFO:root:No line_segment segments detected\n",
      "ERROR:root:No lane lines detected, nothing to do.\n",
      "INFO:root:No line_segment segments detected\n",
      "ERROR:root:No lane lines detected, nothing to do.\n",
      "INFO:root:No line_segment segments detected\n",
      "ERROR:root:No lane lines detected, nothing to do.\n",
      "INFO:root:No line_segment segments detected\n",
      "ERROR:root:No lane lines detected, nothing to do.\n",
      "INFO:root:No line_segment segments detected\n",
      "ERROR:root:No lane lines detected, nothing to do.\n",
      "INFO:root:No line_segment segments detected\n"
     ]
    },
    {
     "name": "stdout",
     "output_type": "stream",
     "text": [
      "frame 405\n",
      "frame 406\n",
      "frame 407\n",
      "frame 408\n",
      "frame 409\n",
      "frame 410\n"
     ]
    },
    {
     "name": "stderr",
     "output_type": "stream",
     "text": [
      "ERROR:root:No lane lines detected, nothing to do.\n",
      "INFO:root:No line_segment segments detected\n",
      "ERROR:root:No lane lines detected, nothing to do.\n",
      "INFO:root:No line_segment segments detected\n",
      "ERROR:root:No lane lines detected, nothing to do.\n",
      "INFO:root:No line_segment segments detected\n",
      "ERROR:root:No lane lines detected, nothing to do.\n",
      "INFO:root:No line_segment segments detected\n",
      "ERROR:root:No lane lines detected, nothing to do.\n",
      "INFO:root:No line_segment segments detected\n",
      "ERROR:root:No lane lines detected, nothing to do.\n"
     ]
    },
    {
     "name": "stdout",
     "output_type": "stream",
     "text": [
      "frame 411\n",
      "frame 412\n",
      "frame 413\n",
      "frame 414\n",
      "frame 415\n",
      "frame 416\n"
     ]
    },
    {
     "name": "stderr",
     "output_type": "stream",
     "text": [
      "INFO:root:No line_segment segments detected\n",
      "ERROR:root:No lane lines detected, nothing to do.\n",
      "INFO:root:No line_segment segments detected\n",
      "ERROR:root:No lane lines detected, nothing to do.\n",
      "INFO:root:No line_segment segments detected\n",
      "ERROR:root:No lane lines detected, nothing to do.\n",
      "INFO:root:No line_segment segments detected\n",
      "ERROR:root:No lane lines detected, nothing to do.\n",
      "INFO:root:No line_segment segments detected\n",
      "ERROR:root:No lane lines detected, nothing to do.\n",
      "INFO:root:No line_segment segments detected\n",
      "ERROR:root:No lane lines detected, nothing to do.\n"
     ]
    },
    {
     "name": "stdout",
     "output_type": "stream",
     "text": [
      "frame 417\n",
      "frame 418\n",
      "frame 419\n",
      "frame 420\n",
      "frame 421\n"
     ]
    }
   ],
   "source": [
    "#DeepPiCar code: Modified for DSC 541\n",
    "\n",
    "import cv2\n",
    "import numpy as np\n",
    "import logging\n",
    "import math\n",
    "import datetime\n",
    "import sys\n",
    "\n",
    "_SHOW_IMAGE = False\n",
    "\n",
    "\n",
    "class HandCodedLaneFollower(object):\n",
    "\n",
    "    def __init__(self, car=None):\n",
    "        logging.info('Creating a HandCodedLaneFollower...')\n",
    "        self.car = car\n",
    "        self.curr_steering_angle = 90\n",
    "\n",
    "    def follow_lane(self, frame):\n",
    "        # Main entry point of the lane follower\n",
    "        show_image(\"orig\", frame)\n",
    "\n",
    "        lane_lines, frame = detect_lane(frame)\n",
    "        final_frame = self.steer(frame, lane_lines)\n",
    "\n",
    "        return final_frame\n",
    "\n",
    "    def steer(self, frame, lane_lines):\n",
    "        logging.debug('steering...')\n",
    "        if len(lane_lines) == 0:\n",
    "            logging.error('No lane lines detected, nothing to do.')\n",
    "            return frame\n",
    "\n",
    "        new_steering_angle = compute_steering_angle(frame, lane_lines)\n",
    "        self.curr_steering_angle = stabilize_steering_angle(self.curr_steering_angle, new_steering_angle, len(lane_lines))\n",
    "\n",
    "        if self.car is not None:\n",
    "            self.car.front_wheels.turn(self.curr_steering_angle)\n",
    "        curr_heading_image = display_heading_line(frame, self.curr_steering_angle)\n",
    "        show_image(\"heading\", curr_heading_image)\n",
    "\n",
    "        return curr_heading_image\n",
    "\n",
    "\n",
    "############################\n",
    "# Frame processing steps\n",
    "############################\n",
    "def detect_lane(frame):\n",
    "    logging.debug('detecting lane lines...')\n",
    "\n",
    "    edges = detect_edges(frame)\n",
    "    show_image('edges', edges)\n",
    "\n",
    "    cropped_edges = region_of_interest(edges)\n",
    "    show_image('edges cropped', cropped_edges)\n",
    "\n",
    "    line_segments = detect_line_segments(cropped_edges)\n",
    "    line_segment_image = display_lines(frame, line_segments)\n",
    "    show_image(\"line segments\", line_segment_image)\n",
    "\n",
    "    lane_lines = average_slope_intercept(frame, line_segments)\n",
    "    lane_lines_image = display_lines(frame, lane_lines)\n",
    "    show_image(\"lane lines\", lane_lines_image)\n",
    "\n",
    "    return lane_lines, lane_lines_image\n",
    "\n",
    "\n",
    "def detect_edges(frame):\n",
    "    # filter for blue lane lines\n",
    "    hsv = cv2.cvtColor(frame, cv2.COLOR_BGR2HSV)\n",
    "    show_image(\"hsv\", hsv)\n",
    "    \n",
    "    #these values must be changed to isolate different colors\n",
    "#     lower_blue = np.array([20, 0, 100])\n",
    "#     upper_blue = np.array([80, 255, 255])\n",
    "#     mask = cv2.inRange(hsv, lower_blue, upper_blue)\n",
    "\n",
    "    #filter for red lane lines\n",
    "    # lower mask (0-10)\n",
    "    lower_red = np.array([0,180,50])\n",
    "    upper_red = np.array([10,255,140])\n",
    "    mask0 = cv2.inRange(hsv, lower_red, upper_red)\n",
    "\n",
    "    # upper mask (170-180)\n",
    "    lower_red = np.array([170,180,50])\n",
    "    upper_red = np.array([180,255,140])\n",
    "    mask1 = cv2.inRange(hsv, lower_red, upper_red)\n",
    "\n",
    "    # join my masks\n",
    "    mask = mask0+mask1\n",
    "    show_image(\"edge mask\", mask)\n",
    "\n",
    "    # detect edges\n",
    "    edges = cv2.Canny(mask, 200, 400)\n",
    "    cv2.imshow(\"Lane Mask\", edges)\n",
    "    \n",
    "    return edges\n",
    "\n",
    "def detect_edges_old(frame):\n",
    "    # filter for blue lane lines\n",
    "    hsv = cv2.cvtColor(frame, cv2.COLOR_BGR2HSV)\n",
    "    show_image(\"hsv\", hsv)\n",
    "    for i in range(16):\n",
    "        lower_blue = np.array([30, 16 * i, 0])\n",
    "        upper_blue = np.array([150, 255, 255])\n",
    "        mask = cv2.inRange(hsv, lower_blue, upper_blue)\n",
    "        show_image(\"blue mask Sat=%s\" % (16* i), mask)\n",
    "\n",
    "\n",
    "    #for i in range(16):\n",
    "        #lower_blue = np.array([16 * i, 40, 50])\n",
    "        #upper_blue = np.array([150, 255, 255])\n",
    "        #mask = cv2.inRange(hsv, lower_blue, upper_blue)\n",
    "       # show_image(\"blue mask hue=%s\" % (16* i), mask)\n",
    "\n",
    "        # detect edges\n",
    "    edges = cv2.Canny(mask, 200, 400)\n",
    "\n",
    "    return edges\n",
    "\n",
    "\n",
    "def region_of_interest(canny):\n",
    "    height, width = canny.shape\n",
    "    mask = np.zeros_like(canny)\n",
    "\n",
    "    # only focus bottom half of the screen\n",
    "\n",
    "    polygon = np.array([[\n",
    "        (0, height * 1 / 2),\n",
    "        (width, height * 1 / 2),\n",
    "        (width, height),\n",
    "        (0, height),\n",
    "    ]], np.int32)\n",
    "\n",
    "    cv2.fillPoly(mask, polygon, 255)\n",
    "    show_image(\"mask\", mask)\n",
    "    masked_image = cv2.bitwise_and(canny, mask)\n",
    "    return masked_image\n",
    "\n",
    "\n",
    "def detect_line_segments(cropped_edges):\n",
    "    # tuning min_threshold, minLineLength, maxLineGap is a trial and error process by hand\n",
    "    rho = 1  # precision in pixel, i.e. 1 pixel\n",
    "    angle = np.pi / 180  # degree in radian, i.e. 1 degree\n",
    "    min_threshold = 10  # minimal of votes\n",
    "    line_segments = cv2.HoughLinesP(cropped_edges, rho, angle, min_threshold, np.array([]), minLineLength=8,\n",
    "                                    maxLineGap=4)\n",
    "\n",
    "    if line_segments is not None:\n",
    "        for line_segment in line_segments:\n",
    "            logging.debug('detected line_segment:')\n",
    "            logging.debug(\"%s of length %s\" % (line_segment, length_of_line_segment(line_segment[0])))\n",
    "\n",
    "    return line_segments\n",
    "\n",
    "\n",
    "def average_slope_intercept(frame, line_segments):\n",
    "    \"\"\"\n",
    "    This function combines line segments into one or two lane lines\n",
    "    If all line slopes are < 0: then we only have detected left lane\n",
    "    If all line slopes are > 0: then we only have detected right lane\n",
    "    \"\"\"\n",
    "    lane_lines = []\n",
    "    if line_segments is None:\n",
    "        logging.info('No line_segment segments detected')\n",
    "        return lane_lines\n",
    "\n",
    "    height, width, _ = frame.shape\n",
    "    left_fit = []\n",
    "    right_fit = []\n",
    "\n",
    "    boundary = 1/3\n",
    "    left_region_boundary = width * (1 - boundary)  # left lane line segment should be on left 2/3 of the screen\n",
    "    right_region_boundary = width * boundary # right lane line segment should be on left 2/3 of the screen\n",
    "\n",
    "    for line_segment in line_segments:\n",
    "        for x1, y1, x2, y2 in line_segment:\n",
    "            if x1 == x2:\n",
    "                logging.info('skipping vertical line segment (slope=inf): %s' % line_segment)\n",
    "                continue\n",
    "            fit = np.polyfit((x1, x2), (y1, y2), 1)\n",
    "            slope = fit[0]\n",
    "            intercept = fit[1]\n",
    "            if slope < 0:\n",
    "                if x1 < left_region_boundary and x2 < left_region_boundary:\n",
    "                    left_fit.append((slope, intercept))\n",
    "            else:\n",
    "                if x1 > right_region_boundary and x2 > right_region_boundary:\n",
    "                    right_fit.append((slope, intercept))\n",
    "\n",
    "    left_fit_average = np.average(left_fit, axis=0)\n",
    "    if len(left_fit) > 0:\n",
    "        lane_lines.append(make_points(frame, left_fit_average))\n",
    "\n",
    "    right_fit_average = np.average(right_fit, axis=0)\n",
    "    if len(right_fit) > 0:\n",
    "        lane_lines.append(make_points(frame, right_fit_average))\n",
    "\n",
    "    logging.debug('lane lines: %s' % lane_lines)  # [[[316, 720, 484, 432]], [[1009, 720, 718, 432]]]\n",
    "\n",
    "    return lane_lines\n",
    "\n",
    "\n",
    "def compute_steering_angle(frame, lane_lines):\n",
    "    \"\"\" Find the steering angle based on lane line coordinate\n",
    "        We assume that camera is calibrated to point to dead center\n",
    "    \"\"\"\n",
    "    if len(lane_lines) == 0:\n",
    "        logging.info('No lane lines detected, do nothing')\n",
    "        return -90\n",
    "\n",
    "    height, width, _ = frame.shape\n",
    "    if len(lane_lines) == 1:\n",
    "        logging.debug('Only detected one lane line, just follow it. %s' % lane_lines[0])\n",
    "        x1, _, x2, _ = lane_lines[0][0]\n",
    "        x_offset = x2 - x1\n",
    "    else:\n",
    "        _, _, left_x2, _ = lane_lines[0][0]\n",
    "        _, _, right_x2, _ = lane_lines[1][0]\n",
    "        camera_mid_offset_percent = 0.02 # 0.0 means car pointing to center, -0.03: car is centered to left, +0.03 means car pointing to right\n",
    "        mid = int(width / 2 * (1 + camera_mid_offset_percent))\n",
    "        x_offset = (left_x2 + right_x2) / 2 - mid\n",
    "\n",
    "    # find the steering angle, which is angle between navigation direction to end of center line\n",
    "    y_offset = int(height / 2)\n",
    "\n",
    "    angle_to_mid_radian = math.atan(x_offset / y_offset)  # angle (in radian) to center vertical line\n",
    "    angle_to_mid_deg = int(angle_to_mid_radian * 180.0 / math.pi)  # angle (in degrees) to center vertical line\n",
    "    steering_angle = angle_to_mid_deg + 90  # this is the steering angle needed by picar front wheel\n",
    "\n",
    "    logging.debug('new steering angle: %s' % steering_angle)\n",
    "    return steering_angle\n",
    "\n",
    "\n",
    "def stabilize_steering_angle(curr_steering_angle, new_steering_angle, num_of_lane_lines, max_angle_deviation_two_lines=5, max_angle_deviation_one_lane=1):\n",
    "    \"\"\"\n",
    "    Using last steering angle to stabilize the steering angle\n",
    "    This can be improved to use last N angles, etc\n",
    "    if new angle is too different from current angle, only turn by max_angle_deviation degrees\n",
    "    \"\"\"\n",
    "    if num_of_lane_lines == 2 :\n",
    "        # if both lane lines detected, then we can deviate more\n",
    "        max_angle_deviation = max_angle_deviation_two_lines\n",
    "    else :\n",
    "        # if only one lane detected, don't deviate too much\n",
    "        max_angle_deviation = max_angle_deviation_one_lane\n",
    "    \n",
    "    angle_deviation = new_steering_angle - curr_steering_angle\n",
    "    if abs(angle_deviation) > max_angle_deviation:\n",
    "        stabilized_steering_angle = int(curr_steering_angle\n",
    "                                        + max_angle_deviation * angle_deviation / abs(angle_deviation))\n",
    "    else:\n",
    "        stabilized_steering_angle = new_steering_angle\n",
    "    logging.info('Proposed angle: %s, stabilized angle: %s' % (new_steering_angle, stabilized_steering_angle))\n",
    "    return stabilized_steering_angle\n",
    "\n",
    "\n",
    "############################\n",
    "# Utility Functions\n",
    "############################\n",
    "def display_lines(frame, lines, line_color=(0, 255, 0), line_width=10):\n",
    "    line_image = np.zeros_like(frame)\n",
    "    if lines is not None:\n",
    "        for line in lines:\n",
    "            for x1, y1, x2, y2 in line:\n",
    "                cv2.line(line_image, (x1, y1), (x2, y2), line_color, line_width)\n",
    "    line_image = cv2.addWeighted(frame, 0.8, line_image, 1, 1)\n",
    "    return line_image\n",
    "\n",
    "\n",
    "def display_heading_line(frame, steering_angle, line_color=(0, 0, 255), line_width=5, ):\n",
    "    heading_image = np.zeros_like(frame)\n",
    "    height, width, _ = frame.shape\n",
    "\n",
    "    # figure out the heading line from steering angle\n",
    "    # heading line (x1,y1) is always center bottom of the screen\n",
    "    # (x2, y2) requires a bit of trigonometry\n",
    "\n",
    "    # Note: the steering angle of:\n",
    "    # 0-89 degree: turn left\n",
    "    # 90 degree: going straight\n",
    "    # 91-180 degree: turn right \n",
    "    steering_angle_radian = steering_angle / 180.0 * math.pi\n",
    "    x1 = int(width / 2)\n",
    "    y1 = height\n",
    "    x2 = int(x1 - height / 2 / math.tan(steering_angle_radian))\n",
    "    y2 = int(height / 2)\n",
    "\n",
    "    cv2.line(heading_image, (x1, y1), (x2, y2), line_color, line_width)\n",
    "    heading_image = cv2.addWeighted(frame, 0.8, heading_image, 1, 1)\n",
    "\n",
    "    return heading_image\n",
    "\n",
    "\n",
    "def length_of_line_segment(line):\n",
    "    x1, y1, x2, y2 = line\n",
    "    return math.sqrt((x2 - x1) ** 2 + (y2 - y1) ** 2)\n",
    "\n",
    "\n",
    "def show_image(title, frame, show=_SHOW_IMAGE):\n",
    "    if show:\n",
    "        cv2.imshow(title, frame)\n",
    "\n",
    "\n",
    "def make_points(frame, line):\n",
    "    height, width, _ = frame.shape\n",
    "    slope, intercept = line\n",
    "    y1 = height  # bottom of the frame\n",
    "    y2 = int(y1 * 1 / 2)  # make points from middle of the frame down\n",
    "\n",
    "    # bound the coordinates within the frame\n",
    "    x1 = max(-width, min(2 * width, int((y1 - intercept) / slope)))\n",
    "    x2 = max(-width, min(2 * width, int((y2 - intercept) / slope)))\n",
    "    return [[x1, y1, x2, y2]]\n",
    "\n",
    "\n",
    "############################\n",
    "# Test Functions\n",
    "############################\n",
    "def test_photo(file):\n",
    "    land_follower = HandCodedLaneFollower()\n",
    "    frame = cv2.imread(file)\n",
    "    combo_image = land_follower.follow_lane(frame)\n",
    "    show_image('final', combo_image, True)\n",
    "    cv2.waitKey(0)\n",
    "    cv2.destroyAllWindows()\n",
    "\n",
    "\n",
    "def test_video(video_file):\n",
    "    lane_follower = HandCodedLaneFollower()\n",
    "    cap = cv2.VideoCapture(video_file + '.avi')\n",
    "#     cap = cv2.VideoCapture(0)\n",
    "    #this code skips the first second of video, which doesn't seem necessary\n",
    "    # skip first second of video.\n",
    "#     for i in range(3):\n",
    "#         _, frame = cap.read()\n",
    "        \n",
    "    frame_width = int(cap.get(3))\n",
    "    frame_height = int(cap.get(4))\n",
    "    video_type = cv2.VideoWriter_fourcc(*'XVID')\n",
    "    video_overlay = cv2.VideoWriter(\"%s_overlay.avi\" % (video_file), video_type, 20.0, (frame_width, frame_height))\n",
    "    try:\n",
    "        i = 0\n",
    "        #Austin added this to provide video length to the below if statement\n",
    "        total_frames =  int(cap.get(cv2.CAP_PROP_FRAME_COUNT))\n",
    "        while cap.isOpened():\n",
    "            #this if statement is used because OpenCV doesn't seem to be closing the cap when the video\n",
    "            #runs out of frames.  185 is the length in frames of this video\n",
    "            if i < total_frames:\n",
    "                _, frame = cap.read()\n",
    "                print('frame %s' % i )\n",
    "                combo_image= lane_follower.follow_lane(frame)\n",
    "\n",
    "                frame_width = int(cap.get(3))\n",
    "                frame_height = int(cap.get(4))\n",
    "\n",
    "\n",
    "                #these lines of code write every frame within the video to a png image in the directory\n",
    "    #             cv2.imwrite(\"%s_%03d_%03d.png\" % (video_file, i, lane_follower.curr_steering_angle), frame)\n",
    "\n",
    "    #             cv2.imwrite(\"%s_overlay_%03d.png\" % (video_file, i), combo_image)\n",
    "                video_overlay.write(combo_image)\n",
    "        #                 out.write(combo_image)\n",
    "                cv2.imshow(\"Road with Lane line\", combo_image)\n",
    "\n",
    "                i += 1\n",
    "                if cv2.waitKey(1) & 0xFF == ord('q'):\n",
    "                    break\n",
    "            else:\n",
    "                break\n",
    "    \n",
    "    finally:\n",
    "        cap.release()\n",
    "        video_overlay.release()\n",
    "        cv2.destroyAllWindows()\n",
    "\n",
    "\n",
    "if __name__ == '__main__':\n",
    "    logging.basicConfig(level=logging.INFO)\n",
    "\n",
    "    test_video('Long_Red_Track_1')\n",
    "    #test_video('Long_Red_Track_1')\n",
    "    #test_photo('/home/pi/DeepPiCar/driver/data/video/car_video_190427_110320_073.png')\n",
    "    #test_photo(sys.argv[1])\n",
    "    #test_video(sys.argv[1])"
   ]
  },
  {
   "cell_type": "code",
   "execution_count": null,
   "metadata": {},
   "outputs": [],
   "source": []
  }
 ],
 "metadata": {
  "hide_input": false,
  "kernelspec": {
   "display_name": "Python 3",
   "language": "python",
   "name": "python3"
  },
  "language_info": {
   "codemirror_mode": {
    "name": "ipython",
    "version": 3
   },
   "file_extension": ".py",
   "mimetype": "text/x-python",
   "name": "python",
   "nbconvert_exporter": "python",
   "pygments_lexer": "ipython3",
   "version": "3.7.3"
  },
  "toc": {
   "base_numbering": 1,
   "nav_menu": {},
   "number_sections": true,
   "sideBar": true,
   "skip_h1_title": false,
   "title_cell": "Table of Contents",
   "title_sidebar": "Contents",
   "toc_cell": false,
   "toc_position": {},
   "toc_section_display": true,
   "toc_window_display": false
  },
  "varInspector": {
   "cols": {
    "lenName": 16,
    "lenType": 16,
    "lenVar": 40
   },
   "kernels_config": {
    "python": {
     "delete_cmd_postfix": "",
     "delete_cmd_prefix": "del ",
     "library": "var_list.py",
     "varRefreshCmd": "print(var_dic_list())"
    },
    "r": {
     "delete_cmd_postfix": ") ",
     "delete_cmd_prefix": "rm(",
     "library": "var_list.r",
     "varRefreshCmd": "cat(var_dic_list()) "
    }
   },
   "types_to_exclude": [
    "module",
    "function",
    "builtin_function_or_method",
    "instance",
    "_Feature"
   ],
   "window_display": false
  }
 },
 "nbformat": 4,
 "nbformat_minor": 2
}
